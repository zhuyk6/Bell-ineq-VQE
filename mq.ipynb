{
 "cells": [
  {
   "cell_type": "code",
   "execution_count": 1,
   "metadata": {},
   "outputs": [
    {
     "name": "stdout",
     "output_type": "stream",
     "text": [
      "0.9.0\n"
     ]
    }
   ],
   "source": [
    "import mindquantum\n",
    "\n",
    "print(mindquantum.__version__)"
   ]
  },
  {
   "cell_type": "markdown",
   "metadata": {},
   "source": [
    "# CHSH\n",
    "\n",
    "$$\n",
    "\\begin{align}\n",
    "S_{CHSH} & = X \\otimes \\left(Y + Y' \\right) + X' \\otimes (Y - Y') \\\\\n",
    "& = \\vec{a} \\cdot \\vec{\\sigma} \\otimes \\left(\\vec{b}\\cdot \\vec{\\sigma} + \\vec{b'} \\cdot \\vec{\\sigma} \\right) \n",
    "+ \\vec{a'} \\cdot \\vec{\\sigma} \\otimes (\\vec{b} \\cdot \\vec{\\sigma} - \\vec{b'} \\cdot \\vec{\\sigma})\n",
    "\\end{align}\n",
    "$$\n",
    "\n",
    "where $\\vec{a},\\vec{b}, \\vec{a'}, \\vec{b'} \\in \\mathbb{R}^3$ and $|\\vec{a}| = |\\vec{b}| = |\\vec{a'}| = |\\vec{b'}| = 1$ ."
   ]
  },
  {
   "cell_type": "code",
   "execution_count": 2,
   "metadata": {},
   "outputs": [],
   "source": [
    "from mindspore import nn\n",
    "from mindspore import ops\n",
    "from mindspore import Tensor, Parameter\n",
    "\n",
    "import mindspore as ms\n",
    "ms.set_context(mode=ms.PYNATIVE_MODE)\n",
    "\n",
    "import numpy as np"
   ]
  },
  {
   "cell_type": "code",
   "execution_count": 3,
   "metadata": {},
   "outputs": [],
   "source": [
    "class ClassicalNet2(nn.Cell):\n",
    "    def __init__(self):\n",
    "        super().__init__()\n",
    "\n",
    "        def build(prefix: str):\n",
    "            minval = Tensor(0, ms.float32)\n",
    "            maxval = Tensor(np.pi * 2, ms.float32)\n",
    "            theta = Parameter(ops.uniform((1,), minval, maxval, dtype=ms.float32), name=prefix+\"_theta\", requires_grad=True)\n",
    "            phi   = Parameter(ops.uniform((1,), minval, maxval, dtype=ms.float32), name=prefix+\"_phi\"  , requires_grad=True)\n",
    "            self.__setattr__(f\"{prefix}_theta\", theta)\n",
    "            self.__setattr__(f\"{prefix}_phi\", phi)\n",
    "\n",
    "        build(\"a^1\")\n",
    "        build(\"a^2\")\n",
    "        build(\"b^1\")\n",
    "        build(\"b^2\")\n",
    "        self.test = [Parameter(np.random.rand(2,), name=\"test\", requires_grad=True)]\n",
    "   \n",
    "    def construct(self, T: Tensor):\n",
    "        def get_vec(prefix: str):\n",
    "            theta = self.__getattr__(f\"{prefix}_theta\")\n",
    "            phi   = self.__getattr__(f\"{prefix}_phi\")\n",
    "            vec = ops.concat((ops.cos(theta) * ops.sin(phi), ops.sin(theta) * ops.sin(phi), ops.cos(phi)), axis=0)\n",
    "            return vec\n",
    "\n",
    "        def f(a: Tensor, b: Tensor):\n",
    "            middle = T * a\n",
    "            output = middle.transpose() * b\n",
    "            return output.transpose()\n",
    "        \n",
    "        a  = get_vec(\"a^1\")\n",
    "        a_ = get_vec(\"a^2\")\n",
    "        b  = get_vec(\"b^1\")\n",
    "        b_ = get_vec(\"b^2\")\n",
    "        return ops.concat((f(a, b), f(a, b_), f(a_, b), -f(a_, b_)), axis=0).sum()\n"
   ]
  },
  {
   "cell_type": "code",
   "execution_count": 4,
   "metadata": {},
   "outputs": [],
   "source": [
    "class QuantumNet2:\n",
    "    def __call__(self, rho: np.ndarray):\n",
    "        from mindquantum.simulator import Simulator\n",
    "        from mindquantum.core.operators import Hamiltonian, QubitOperator\n",
    "        sim = Simulator(\"mqmatrix\", 2)\n",
    "        sim.set_qs(rho)\n",
    "        T = np.zeros(shape=(3,3))\n",
    "        for (i, sigma1) in enumerate([\"X\", \"Y\", \"Z\"]):\n",
    "            for (j, sigma2) in enumerate([\"X\", \"Y\", \"Z\"]):\n",
    "                ham = Hamiltonian(QubitOperator(f\"{sigma1}0 {sigma2}1\"))\n",
    "                T[i, j] = sim.get_expectation(ham).real\n",
    "        return Tensor(T, dtype=ms.float32)\n"
   ]
  },
  {
   "cell_type": "code",
   "execution_count": 5,
   "metadata": {},
   "outputs": [],
   "source": [
    "def train2(rho: np.matrix, EPOCHS=1000, lr=1e-2):\n",
    "    q_nn = QuantumNet2()\n",
    "    rho = q_nn(np.asarray(rho))\n",
    "\n",
    "    model = ClassicalNet2()\n",
    "    optimizer = nn.Adam(model.trainable_params(), learning_rate=lr)\n",
    "    # optimizer = nn.SGD(model.trainable_params(), learning_rate=lr)\n",
    "\n",
    "    def loss_fn(x, y):\n",
    "        return -x\n",
    "\n",
    "    def forward_fn(data, label):\n",
    "        logits = model(data)\n",
    "        loss = loss_fn(logits, label)\n",
    "        return loss, logits\n",
    "\n",
    "    grad_fn = ops.value_and_grad(forward_fn, None, optimizer.parameters, has_aux=True)\n",
    "\n",
    "    def train_step(data, label):\n",
    "        (loss, _), grads = grad_fn(data, label)\n",
    "        loss = ops.depend(loss, optimizer(grads))\n",
    "        return loss\n",
    "    \n",
    "    model.set_train()\n",
    "    for epoch in range(EPOCHS):\n",
    "        loss = train_step(rho, None)\n",
    "        if epoch % 100 == 0:\n",
    "            loss, current = loss.asnumpy(), epoch\n",
    "            print(f\"loss: {loss:>7f}  [{current:>3d} / {EPOCHS:>3d}]\")\n",
    "\n",
    "            (loss, _), grads = grad_fn(rho, None)\n",
    "            print(f\"loss: {loss} grads: {grads}\")\n",
    "    return train_step(rho, None).asnumpy()"
   ]
  },
  {
   "cell_type": "code",
   "execution_count": 6,
   "metadata": {},
   "outputs": [
    {
     "name": "stdout",
     "output_type": "stream",
     "text": [
      "loss: 0.325064  [  0 / 1000]\n",
      "loss: 0.27400205 grads: (Tensor(shape=[1], dtype=Float32, value= [-1.93436086e-01]), Tensor(shape=[1], dtype=Float32, value= [-1.11425364e+00]), Tensor(shape=[1], dtype=Float32, value= [ 8.41760039e-02]), Tensor(shape=[1], dtype=Float32, value= [-1.05288541e+00]), Tensor(shape=[1], dtype=Float32, value= [ 4.05643284e-01]), Tensor(shape=[1], dtype=Float32, value= [ 4.51240800e-02]), Tensor(shape=[1], dtype=Float32, value= [-2.96383202e-01]), Tensor(shape=[1], dtype=Float32, value= [ 1.91997087e+00]))\n",
      "loss: -2.714450  [100 / 1000]\n",
      "loss: -2.7195542 grads: (Tensor(shape=[1], dtype=Float32, value= [ 1.25910789e-02]), Tensor(shape=[1], dtype=Float32, value= [-4.90504324e-01]), Tensor(shape=[1], dtype=Float32, value= [ 1.24595985e-02]), Tensor(shape=[1], dtype=Float32, value= [-8.90788063e-02]), Tensor(shape=[1], dtype=Float32, value= [-4.84205782e-02]), Tensor(shape=[1], dtype=Float32, value= [-1.33770704e-02]), Tensor(shape=[1], dtype=Float32, value= [ 2.33699083e-02]), Tensor(shape=[1], dtype=Float32, value= [ 4.40115631e-01]))\n",
      "loss: -2.828007  [200 / 1000]\n",
      "loss: -2.8280344 grads: (Tensor(shape=[1], dtype=Float32, value= [-3.33562493e-04]), Tensor(shape=[1], dtype=Float32, value= [-2.81145573e-02]), Tensor(shape=[1], dtype=Float32, value= [ 5.01416624e-04]), Tensor(shape=[1], dtype=Float32, value= [-7.91173428e-03]), Tensor(shape=[1], dtype=Float32, value= [-1.90925598e-03]), Tensor(shape=[1], dtype=Float32, value= [-3.01122665e-04]), Tensor(shape=[1], dtype=Float32, value= [ 1.74136460e-03]), Tensor(shape=[1], dtype=Float32, value= [ 2.39784718e-02]))\n",
      "loss: -2.828427  [300 / 1000]\n",
      "loss: -2.828427 grads: (Tensor(shape=[1], dtype=Float32, value= [-4.29153442e-06]), Tensor(shape=[1], dtype=Float32, value= [-3.41504812e-04]), Tensor(shape=[1], dtype=Float32, value= [ 6.07222319e-06]), Tensor(shape=[1], dtype=Float32, value= [-9.81688499e-05]), Tensor(shape=[1], dtype=Float32, value= [-2.33948231e-05]), Tensor(shape=[1], dtype=Float32, value= [-3.69548798e-06]), Tensor(shape=[1], dtype=Float32, value= [ 2.15992332e-05]), Tensor(shape=[1], dtype=Float32, value= [ 2.90155411e-04]))\n",
      "loss: -2.828427  [400 / 1000]\n",
      "loss: -2.828427 grads: (Tensor(shape=[1], dtype=Float32, value= [-4.32133675e-07]), Tensor(shape=[1], dtype=Float32, value= [ 2.44379044e-06]), Tensor(shape=[1], dtype=Float32, value= [ 2.60770321e-07]), Tensor(shape=[1], dtype=Float32, value= [ 4.32133675e-07]), Tensor(shape=[1], dtype=Float32, value= [ 1.19209290e-07]), Tensor(shape=[1], dtype=Float32, value= [-4.76837158e-07]), Tensor(shape=[1], dtype=Float32, value= [ 3.72529030e-08]), Tensor(shape=[1], dtype=Float32, value= [-2.50339508e-06]))\n",
      "loss: -2.828427  [500 / 1000]\n",
      "loss: -2.828427 grads: (Tensor(shape=[1], dtype=Float32, value= [-4.32133675e-07]), Tensor(shape=[1], dtype=Float32, value= [ 2.44379044e-06]), Tensor(shape=[1], dtype=Float32, value= [ 2.60770321e-07]), Tensor(shape=[1], dtype=Float32, value= [ 4.32133675e-07]), Tensor(shape=[1], dtype=Float32, value= [ 1.19209290e-07]), Tensor(shape=[1], dtype=Float32, value= [-4.76837158e-07]), Tensor(shape=[1], dtype=Float32, value= [ 3.72529030e-08]), Tensor(shape=[1], dtype=Float32, value= [-2.50339508e-06]))\n",
      "loss: -2.828427  [600 / 1000]\n",
      "loss: -2.828427 grads: (Tensor(shape=[1], dtype=Float32, value= [-3.57627869e-07]), Tensor(shape=[1], dtype=Float32, value= [ 2.08616257e-06]), Tensor(shape=[1], dtype=Float32, value= [ 2.16066837e-07]), Tensor(shape=[1], dtype=Float32, value= [ 7.74860382e-07]), Tensor(shape=[1], dtype=Float32, value= [ 8.94069672e-08]), Tensor(shape=[1], dtype=Float32, value= [ 1.78813934e-07]), Tensor(shape=[1], dtype=Float32, value= [ 3.72529030e-08]), Tensor(shape=[1], dtype=Float32, value= [-2.50339508e-06]))\n",
      "loss: -2.828427  [700 / 1000]\n",
      "loss: -2.828427 grads: (Tensor(shape=[1], dtype=Float32, value= [-3.57627869e-07]), Tensor(shape=[1], dtype=Float32, value= [ 2.08616257e-06]), Tensor(shape=[1], dtype=Float32, value= [ 2.16066837e-07]), Tensor(shape=[1], dtype=Float32, value= [ 7.74860382e-07]), Tensor(shape=[1], dtype=Float32, value= [ 8.94069672e-08]), Tensor(shape=[1], dtype=Float32, value= [ 1.78813934e-07]), Tensor(shape=[1], dtype=Float32, value= [ 3.72529030e-08]), Tensor(shape=[1], dtype=Float32, value= [-2.50339508e-06]))\n",
      "loss: -2.828427  [800 / 1000]\n",
      "loss: -2.828427 grads: (Tensor(shape=[1], dtype=Float32, value= [-3.57627869e-07]), Tensor(shape=[1], dtype=Float32, value= [ 1.93715096e-06]), Tensor(shape=[1], dtype=Float32, value= [ 2.16066837e-07]), Tensor(shape=[1], dtype=Float32, value= [ 7.74860382e-07]), Tensor(shape=[1], dtype=Float32, value= [ 8.94069672e-08]), Tensor(shape=[1], dtype=Float32, value= [ 1.78813934e-07]), Tensor(shape=[1], dtype=Float32, value= [ 5.21540642e-08]), Tensor(shape=[1], dtype=Float32, value= [-2.38418579e-06]))\n",
      "loss: -2.828427  [900 / 1000]\n",
      "loss: -2.828427 grads: (Tensor(shape=[1], dtype=Float32, value= [-3.57627869e-07]), Tensor(shape=[1], dtype=Float32, value= [ 1.78813934e-06]), Tensor(shape=[1], dtype=Float32, value= [ 2.16066837e-07]), Tensor(shape=[1], dtype=Float32, value= [ 7.74860382e-07]), Tensor(shape=[1], dtype=Float32, value= [ 8.94069672e-08]), Tensor(shape=[1], dtype=Float32, value= [ 2.98023224e-07]), Tensor(shape=[1], dtype=Float32, value= [ 5.21540642e-08]), Tensor(shape=[1], dtype=Float32, value= [-2.26497650e-06]))\n"
     ]
    },
    {
     "data": {
      "text/plain": [
       "array(-2.828427, dtype=float32)"
      ]
     },
     "execution_count": 6,
     "metadata": {},
     "output_type": "execute_result"
    }
   ],
   "source": [
    "rho = np.array([[0, 0, 0, 0],\n",
    "                [0, 1, -1, 0],\n",
    "                [0, -1, 1, 0],\n",
    "                [0, 0, 0, 0]])\n",
    "train2(rho, 1000, 0.01)"
   ]
  },
  {
   "cell_type": "code",
   "execution_count": 6,
   "metadata": {},
   "outputs": [
    {
     "name": "stdout",
     "output_type": "stream",
     "text": [
      "[[-1.  0.  0.]\n",
      " [ 0. -1.  0.]\n",
      " [ 0.  0. -1.]]\n",
      "loss: -1.821874  [  0 / 1000]\n",
      "loss: -1.8403138 grads: (Tensor(shape=[1], dtype=Float32, value= [-3.78581658e-02]), Tensor(shape=[1], dtype=Float32, value= [-8.03005159e-01]), Tensor(shape=[1], dtype=Float32, value= [ 4.39323485e-02]), Tensor(shape=[1], dtype=Float32, value= [ 9.54542756e-01]), Tensor(shape=[1], dtype=Float32, value= [ 1.50001198e-01]), Tensor(shape=[1], dtype=Float32, value= [-4.44560885e-01]), Tensor(shape=[1], dtype=Float32, value= [-1.56075373e-01]), Tensor(shape=[1], dtype=Float32, value= [-4.93906103e-02]))\n",
      "loss: -2.670384  [100 / 1000]\n",
      "loss: -2.6738584 grads: (Tensor(shape=[1], dtype=Float32, value= [-3.91222239e-02]), Tensor(shape=[1], dtype=Float32, value= [-4.41737443e-01]), Tensor(shape=[1], dtype=Float32, value= [ 5.55173978e-02]), Tensor(shape=[1], dtype=Float32, value= [ 2.29631126e-01]), Tensor(shape=[1], dtype=Float32, value= [-6.19477034e-03]), Tensor(shape=[1], dtype=Float32, value= [-7.18493462e-02]), Tensor(shape=[1], dtype=Float32, value= [-1.02004111e-02]), Tensor(shape=[1], dtype=Float32, value= [ 2.90975988e-01]))\n",
      "loss: -2.812140  [200 / 1000]\n",
      "loss: -2.8124807 grads: (Tensor(shape=[1], dtype=Float32, value= [-4.86718118e-02]), Tensor(shape=[1], dtype=Float32, value= [-1.04213297e-01]), Tensor(shape=[1], dtype=Float32, value= [ 4.30854633e-02]), Tensor(shape=[1], dtype=Float32, value= [ 9.04955268e-02]), Tensor(shape=[1], dtype=Float32, value= [-2.18676012e-02]), Tensor(shape=[1], dtype=Float32, value= [-2.19645202e-02]), Tensor(shape=[1], dtype=Float32, value= [ 2.74539888e-02]), Tensor(shape=[1], dtype=Float32, value= [ 9.22847763e-02]))\n",
      "loss: -2.825859  [300 / 1000]\n",
      "loss: -2.8259003 grads: (Tensor(shape=[1], dtype=Float32, value= [-2.64854580e-02]), Tensor(shape=[1], dtype=Float32, value= [-1.65601969e-02]), Tensor(shape=[1], dtype=Float32, value= [ 2.74885297e-02]), Tensor(shape=[1], dtype=Float32, value= [ 3.29246521e-02]), Tensor(shape=[1], dtype=Float32, value= [-1.39165465e-02]), Tensor(shape=[1], dtype=Float32, value= [-7.06532598e-03]), Tensor(shape=[1], dtype=Float32, value= [ 1.29134655e-02]), Tensor(shape=[1], dtype=Float32, value= [ 2.87611634e-02]))\n",
      "loss: -2.827847  [400 / 1000]\n",
      "loss: -2.8278549 grads: (Tensor(shape=[1], dtype=Float32, value= [-1.31607056e-02]), Tensor(shape=[1], dtype=Float32, value= [-1.56998634e-04]), Tensor(shape=[1], dtype=Float32, value= [ 1.49217397e-02]), Tensor(shape=[1], dtype=Float32, value= [ 1.22135878e-02]), Tensor(shape=[1], dtype=Float32, value= [-7.55327381e-03]), Tensor(shape=[1], dtype=Float32, value= [-3.24064493e-03]), Tensor(shape=[1], dtype=Float32, value= [ 5.79226017e-03]), Tensor(shape=[1], dtype=Float32, value= [ 1.22936964e-02]))\n",
      "loss: -2.828278  [500 / 1000]\n",
      "loss: -2.8282802 grads: (Tensor(shape=[1], dtype=Float32, value= [-6.56627119e-03]), Tensor(shape=[1], dtype=Float32, value= [ 1.86163187e-03]), Tensor(shape=[1], dtype=Float32, value= [ 7.73221254e-03]), Tensor(shape=[1], dtype=Float32, value= [ 4.94331121e-03]), Tensor(shape=[1], dtype=Float32, value= [-3.95677239e-03]), Tensor(shape=[1], dtype=Float32, value= [-1.79395080e-03]), Tensor(shape=[1], dtype=Float32, value= [ 2.79080868e-03]), Tensor(shape=[1], dtype=Float32, value= [ 6.15282357e-03]))\n",
      "loss: -2.828387  [600 / 1000]\n",
      "loss: -2.828388 grads: (Tensor(shape=[1], dtype=Float32, value= [-3.32635641e-03]), Tensor(shape=[1], dtype=Float32, value= [ 1.43653154e-03]), Tensor(shape=[1], dtype=Float32, value= [ 3.98245454e-03]), Tensor(shape=[1], dtype=Float32, value= [ 2.19339132e-03]), Tensor(shape=[1], dtype=Float32, value= [-2.05800682e-03]), Tensor(shape=[1], dtype=Float32, value= [-1.00821257e-03]), Tensor(shape=[1], dtype=Float32, value= [ 1.40190125e-03]), Tensor(shape=[1], dtype=Float32, value= [ 3.21041048e-03]))\n",
      "loss: -2.828416  [700 / 1000]\n",
      "loss: -2.8284166 grads: (Tensor(shape=[1], dtype=Float32, value= [-1.70585513e-03]), Tensor(shape=[1], dtype=Float32, value= [ 8.63254070e-04]), Tensor(shape=[1], dtype=Float32, value= [ 2.05726922e-03]), Tensor(shape=[1], dtype=Float32, value= [ 1.04302168e-03]), Tensor(shape=[1], dtype=Float32, value= [-1.07014552e-03]), Tensor(shape=[1], dtype=Float32, value= [-5.53727150e-04]), Tensor(shape=[1], dtype=Float32, value= [ 7.18742609e-04]), Tensor(shape=[1], dtype=Float32, value= [ 1.68655813e-03]))\n",
      "loss: -2.828424  [800 / 1000]\n",
      "loss: -2.8284242 grads: (Tensor(shape=[1], dtype=Float32, value= [-8.81060958e-04]), Tensor(shape=[1], dtype=Float32, value= [ 4.80115414e-04]), Tensor(shape=[1], dtype=Float32, value= [ 1.06668472e-03]), Tensor(shape=[1], dtype=Float32, value= [ 5.18500805e-04]), Tensor(shape=[1], dtype=Float32, value= [-5.56973740e-04]), Tensor(shape=[1], dtype=Float32, value= [-2.98202038e-04]), Tensor(shape=[1], dtype=Float32, value= [ 3.71366739e-04]), Tensor(shape=[1], dtype=Float32, value= [ 8.82863998e-04]))\n",
      "loss: -2.828426  [900 / 1000]\n",
      "loss: -2.8284264 grads: (Tensor(shape=[1], dtype=Float32, value= [-4.58061695e-04]), Tensor(shape=[1], dtype=Float32, value= [ 2.56836414e-04]), Tensor(shape=[1], dtype=Float32, value= [ 5.53756952e-04]), Tensor(shape=[1], dtype=Float32, value= [ 2.62379646e-04]), Tensor(shape=[1], dtype=Float32, value= [-2.90129334e-04]), Tensor(shape=[1], dtype=Float32, value= [-1.57624483e-04]), Tensor(shape=[1], dtype=Float32, value= [ 1.94400549e-04]), Tensor(shape=[1], dtype=Float32, value= [ 4.63798642e-04]))\n"
     ]
    },
    {
     "data": {
      "text/plain": [
       "Tensor(shape=[], dtype=Float32, value= -2.82843)"
      ]
     },
     "execution_count": 6,
     "metadata": {},
     "output_type": "execute_result"
    }
   ],
   "source": [
    "rho = np.array([[0, 0, 0, 0],\n",
    "                [0, 1, -1, 0],\n",
    "                [0, -1, 1, 0],\n",
    "                [0, 0, 0, 0]])\n",
    "train2(rho, 1000, 0.01)\n"
   ]
  },
  {
   "cell_type": "code",
   "execution_count": 9,
   "metadata": {},
   "outputs": [],
   "source": [
    "def rand_state(n_qubits: int) -> np.ndarray:\n",
    "    d = 2**n_qubits\n",
    "    re = np.random.random((d,))\n",
    "    im = np.random.random((d,))\n",
    "    state = re + 1.0j * im\n",
    "    return state / np.linalg.norm(state)\n",
    "\n",
    "def rand_density_matrix(n_qubits: int, m: int) -> np.matrix:\n",
    "    d = 2**n_qubits\n",
    "    probabilities = np.random.random((m, ))\n",
    "    probabilities /= probabilities.sum()\n",
    "\n",
    "    rho = np.zeros((d, d), dtype=np.complex128)\n",
    "    rho = np.asmatrix(rho)\n",
    "    for p in probabilities:\n",
    "        state = np.asmatrix(rand_state(n_qubits))\n",
    "        rho += p * state.H @ state\n",
    "    return rho"
   ]
  },
  {
   "cell_type": "code",
   "execution_count": 25,
   "metadata": {},
   "outputs": [],
   "source": [
    "v = rand_density_matrix(2, 3)\n",
    "assert(np.allclose(v.H, v))\n",
    "assert(np.allclose(1.0, v.trace()[0,0]))"
   ]
  },
  {
   "cell_type": "code",
   "execution_count": 11,
   "metadata": {},
   "outputs": [],
   "source": [
    "def CHSH_max(rho: np.matrix):\n",
    "    X = np.matrix([[0, 1], [1, 0]], dtype=np.complex128)\n",
    "    Y = np.matrix([[0, -1j], [1j, 0]], dtype=np.complex128)\n",
    "    Z = np.matrix([[1, 0], [0, -1]], dtype=np.complex128)\n",
    "    sigma = [X, Y, Z]\n",
    "    T = [[(rho @ np.kron(sigma[i], sigma[j])).trace()[0, 0] for j in range(3)] for i in range(3)]\n",
    "    T = np.matrix(T).real\n",
    "    U = T.T @ T\n",
    "    eigens = np.linalg.eigvals(U)\n",
    "    eigens.sort()\n",
    "    return 2.0 * np.sqrt(eigens[-1] + eigens[-2])"
   ]
  },
  {
   "cell_type": "code",
   "execution_count": 12,
   "metadata": {},
   "outputs": [
    {
     "data": {
      "text/plain": [
       "2.8284271247461903"
      ]
     },
     "execution_count": 12,
     "metadata": {},
     "output_type": "execute_result"
    }
   ],
   "source": [
    "CHSH_max(rho)"
   ]
  },
  {
   "cell_type": "code",
   "execution_count": 29,
   "metadata": {},
   "outputs": [
    {
     "name": "stdout",
     "output_type": "stream",
     "text": [
      "CHSH max: 2.0587074\n",
      "loss: -1.638395  [  0 / 1000]\n",
      "loss: -1.701862  [ 10 / 1000]\n",
      "loss: -1.737221  [ 20 / 1000]\n",
      "loss: -1.745391  [ 30 / 1000]\n",
      "loss: -1.728553  [ 40 / 1000]\n",
      "loss: -1.689875  [ 50 / 1000]\n",
      "loss: -1.633124  [ 60 / 1000]\n",
      "loss: -1.562286  [ 70 / 1000]\n",
      "loss: -1.481230  [ 80 / 1000]\n",
      "loss: -1.393472  [ 90 / 1000]\n",
      "loss: -1.302033  [100 / 1000]\n",
      "loss: -1.209388  [110 / 1000]\n",
      "loss: -1.117480  [120 / 1000]\n",
      "loss: -1.027778  [130 / 1000]\n",
      "loss: -0.941353  [140 / 1000]\n",
      "loss: -0.858970  [150 / 1000]\n",
      "loss: -0.781160  [160 / 1000]\n",
      "loss: -0.708301  [170 / 1000]\n",
      "loss: -0.640666  [180 / 1000]\n",
      "loss: -0.578473  [190 / 1000]\n",
      "loss: -0.521909  [200 / 1000]\n",
      "loss: -0.471151  [210 / 1000]\n",
      "loss: -0.426368  [220 / 1000]\n",
      "loss: -0.387718  [230 / 1000]\n",
      "loss: -0.355330  [240 / 1000]\n",
      "loss: -0.329290  [250 / 1000]\n",
      "loss: -0.309612  [260 / 1000]\n",
      "loss: -0.296210  [270 / 1000]\n",
      "loss: -0.288877  [280 / 1000]\n",
      "loss: -0.287257  [290 / 1000]\n",
      "loss: -0.290833  [300 / 1000]\n",
      "loss: -0.298925  [310 / 1000]\n",
      "loss: -0.310698  [320 / 1000]\n",
      "loss: -0.325191  [330 / 1000]\n",
      "loss: -0.341355  [340 / 1000]\n",
      "loss: -0.358102  [350 / 1000]\n",
      "loss: -0.374368  [360 / 1000]\n",
      "loss: -0.389167  [370 / 1000]\n",
      "loss: -0.401641  [380 / 1000]\n",
      "loss: -0.411098  [390 / 1000]\n",
      "loss: -0.417033  [400 / 1000]\n",
      "loss: -0.419128  [410 / 1000]\n",
      "loss: -0.417236  [420 / 1000]\n",
      "loss: -0.411354  [430 / 1000]\n",
      "loss: -0.401583  [440 / 1000]\n",
      "loss: -0.388095  [450 / 1000]\n",
      "loss: -0.371096  [460 / 1000]\n",
      "loss: -0.350799  [470 / 1000]\n",
      "loss: -0.327415  [480 / 1000]\n",
      "loss: -0.301139  [490 / 1000]\n",
      "loss: -0.272160  [500 / 1000]\n",
      "loss: -0.240669  [510 / 1000]\n",
      "loss: -0.206870  [520 / 1000]\n",
      "loss: -0.171000  [530 / 1000]\n",
      "loss: -0.133341  [540 / 1000]\n",
      "loss: -0.094226  [550 / 1000]\n",
      "loss: -0.054054  [560 / 1000]\n",
      "loss: -0.013289  [570 / 1000]\n",
      "loss: 0.027547  [580 / 1000]\n",
      "loss: 0.067874  [590 / 1000]\n",
      "loss: 0.107077  [600 / 1000]\n",
      "loss: 0.144516  [610 / 1000]\n",
      "loss: 0.179552  [620 / 1000]\n",
      "loss: 0.211574  [630 / 1000]\n",
      "loss: 0.240028  [640 / 1000]\n",
      "loss: 0.264446  [650 / 1000]\n",
      "loss: 0.284476  [660 / 1000]\n",
      "loss: 0.299917  [670 / 1000]\n",
      "loss: 0.310739  [680 / 1000]\n",
      "loss: 0.317108  [690 / 1000]\n",
      "loss: 0.319397  [700 / 1000]\n",
      "loss: 0.318192  [710 / 1000]\n",
      "loss: 0.314281  [720 / 1000]\n",
      "loss: 0.308638  [730 / 1000]\n",
      "loss: 0.302387  [740 / 1000]\n",
      "loss: 0.296760  [750 / 1000]\n",
      "loss: 0.293042  [760 / 1000]\n",
      "loss: 0.292506  [770 / 1000]\n",
      "loss: 0.296358  [780 / 1000]\n",
      "loss: 0.305671  [790 / 1000]\n",
      "loss: 0.321335  [800 / 1000]\n",
      "loss: 0.344016  [810 / 1000]\n",
      "loss: 0.374138  [820 / 1000]\n",
      "loss: 0.411864  [830 / 1000]\n",
      "loss: 0.457113  [840 / 1000]\n",
      "loss: 0.509575  [850 / 1000]\n",
      "loss: 0.568745  [860 / 1000]\n",
      "loss: 0.633950  [870 / 1000]\n",
      "loss: 0.704386  [880 / 1000]\n",
      "loss: 0.779133  [890 / 1000]\n",
      "loss: 0.857157  [900 / 1000]\n",
      "loss: 0.937279  [910 / 1000]\n",
      "loss: 1.018117  [920 / 1000]\n",
      "loss: 1.097977  [930 / 1000]\n",
      "loss: 1.174737  [940 / 1000]\n",
      "loss: 1.245728  [950 / 1000]\n",
      "loss: 1.307678  [960 / 1000]\n",
      "loss: 1.356771  [970 / 1000]\n",
      "loss: 1.388876  [980 / 1000]\n",
      "loss: 1.399942  [990 / 1000]\n"
     ]
    },
    {
     "ename": "ValueError",
     "evalue": "Expect Tensor to have dimension between 1 and 8.",
     "output_type": "error",
     "traceback": [
      "\u001b[0;31m---------------------------------------------------------------------------\u001b[0m",
      "\u001b[0;31mValueError\u001b[0m                                Traceback (most recent call last)",
      "\u001b[1;32m/home/zhuyk6/Documents/Bell-ineq-VQE/mq.ipynb 单元格 14\u001b[0m in \u001b[0;36m5\n\u001b[1;32m      <a href='vscode-notebook-cell:/home/zhuyk6/Documents/Bell-ineq-VQE/mq.ipynb#X30sZmlsZQ%3D%3D?line=2'>3</a>\u001b[0m v1 \u001b[39m=\u001b[39m CHSH_max(rho)\n\u001b[1;32m      <a href='vscode-notebook-cell:/home/zhuyk6/Documents/Bell-ineq-VQE/mq.ipynb#X30sZmlsZQ%3D%3D?line=3'>4</a>\u001b[0m \u001b[39mprint\u001b[39m(\u001b[39mf\u001b[39m\u001b[39m\"\u001b[39m\u001b[39mCHSH max: \u001b[39m\u001b[39m{\u001b[39;00mv1\u001b[39m:\u001b[39;00m\u001b[39m.7f\u001b[39m\u001b[39m}\u001b[39;00m\u001b[39m\"\u001b[39m)\n\u001b[0;32m----> <a href='vscode-notebook-cell:/home/zhuyk6/Documents/Bell-ineq-VQE/mq.ipynb#X30sZmlsZQ%3D%3D?line=4'>5</a>\u001b[0m v2 \u001b[39m=\u001b[39m train2(rho)[\u001b[39m0\u001b[39m]\n\u001b[1;32m      <a href='vscode-notebook-cell:/home/zhuyk6/Documents/Bell-ineq-VQE/mq.ipynb#X30sZmlsZQ%3D%3D?line=5'>6</a>\u001b[0m \u001b[39mprint\u001b[39m(\u001b[39mf\u001b[39m\u001b[39m\"\u001b[39m\u001b[39mestimate: \u001b[39m\u001b[39m{\u001b[39;00mv2\u001b[39m:\u001b[39;00m\u001b[39m.7f\u001b[39m\u001b[39m}\u001b[39;00m\u001b[39m\"\u001b[39m)\n\u001b[1;32m      <a href='vscode-notebook-cell:/home/zhuyk6/Documents/Bell-ineq-VQE/mq.ipynb#X30sZmlsZQ%3D%3D?line=6'>7</a>\u001b[0m \u001b[39mif\u001b[39;00m \u001b[39mnot\u001b[39;00m np\u001b[39m.\u001b[39mallclose(v1, v2):\n",
      "File \u001b[0;32m~/.pyenv/versions/3.8.0/lib/python3.8/site-packages/mindspore/common/tensor.py:382\u001b[0m, in \u001b[0;36mTensor.__getitem__\u001b[0;34m(self, index)\u001b[0m\n\u001b[1;32m    381\u001b[0m \u001b[39mdef\u001b[39;00m \u001b[39m__getitem__\u001b[39m(\u001b[39mself\u001b[39m, index):\n\u001b[0;32m--> 382\u001b[0m     out \u001b[39m=\u001b[39m tensor_operator_registry\u001b[39m.\u001b[39;49mget(\u001b[39m'\u001b[39;49m\u001b[39m__getitem__\u001b[39;49m\u001b[39m'\u001b[39;49m)(\u001b[39mself\u001b[39;49m, index)\n\u001b[1;32m    383\u001b[0m     \u001b[39mif\u001b[39;00m out \u001b[39mis\u001b[39;00m \u001b[39mnot\u001b[39;00m \u001b[39mself\u001b[39m:\n\u001b[1;32m    384\u001b[0m         out\u001b[39m.\u001b[39mparent_tensor_ \u001b[39m=\u001b[39m \u001b[39mself\u001b[39m\n",
      "File \u001b[0;32m~/.pyenv/versions/3.8.0/lib/python3.8/site-packages/mindspore/ops/composite/multitype_ops/_compile_utils.py:57\u001b[0m, in \u001b[0;36m_tensor_getitem\u001b[0;34m(self, index)\u001b[0m\n\u001b[1;32m     55\u001b[0m     \u001b[39mreturn\u001b[39;00m _tensor_index_by_bool(\u001b[39mself\u001b[39m, index)\n\u001b[1;32m     56\u001b[0m \u001b[39mif\u001b[39;00m \u001b[39misinstance\u001b[39m(index, \u001b[39mint\u001b[39m):\n\u001b[0;32m---> 57\u001b[0m     \u001b[39mreturn\u001b[39;00m _tensor_index_by_integer(\u001b[39mself\u001b[39;49m, index)\n\u001b[1;32m     58\u001b[0m \u001b[39mif\u001b[39;00m \u001b[39misinstance\u001b[39m(index, \u001b[39mslice\u001b[39m):\n\u001b[1;32m     59\u001b[0m     \u001b[39mreturn\u001b[39;00m tensor_index_by_slice(\u001b[39mself\u001b[39m, index)\n",
      "File \u001b[0;32m~/.pyenv/versions/3.8.0/lib/python3.8/site-packages/mindspore/ops/composite/multitype_ops/_compile_utils.py:390\u001b[0m, in \u001b[0;36m_tensor_index_by_integer\u001b[0;34m(data, int_index)\u001b[0m\n\u001b[1;32m    388\u001b[0m \u001b[39m\u001b[39m\u001b[39m\"\"\"Tensor getitem by a single integer number\"\"\"\u001b[39;00m\n\u001b[1;32m    389\u001b[0m \u001b[39mif\u001b[39;00m data\u001b[39m.\u001b[39mndim \u001b[39m<\u001b[39m \u001b[39m1\u001b[39m \u001b[39mor\u001b[39;00m data\u001b[39m.\u001b[39mndim \u001b[39m>\u001b[39m \u001b[39m8\u001b[39m:\n\u001b[0;32m--> 390\u001b[0m     const_utils\u001b[39m.\u001b[39;49mraise_value_error(\u001b[39m\"\u001b[39;49m\u001b[39mExpect Tensor to have dimension between 1 and 8.\u001b[39;49m\u001b[39m\"\u001b[39;49m)\n\u001b[1;32m    392\u001b[0m data_shape \u001b[39m=\u001b[39m F\u001b[39m.\u001b[39mshape(data)\n\u001b[1;32m    393\u001b[0m \u001b[39mif\u001b[39;00m is_shape_unknown(data_shape):\n",
      "File \u001b[0;32m~/.pyenv/versions/3.8.0/lib/python3.8/site-packages/mindspore/ops/primitive.py:719\u001b[0m, in \u001b[0;36mconstexpr.<locals>.deco.<locals>.CompileOp.__call__\u001b[0;34m(self, *args, **kwargs)\u001b[0m\n\u001b[1;32m    718\u001b[0m \u001b[39mdef\u001b[39;00m \u001b[39m__call__\u001b[39m(\u001b[39mself\u001b[39m, \u001b[39m*\u001b[39margs, \u001b[39m*\u001b[39m\u001b[39m*\u001b[39mkwargs):\n\u001b[0;32m--> 719\u001b[0m     \u001b[39mreturn\u001b[39;00m fn(\u001b[39m*\u001b[39;49margs)\n",
      "File \u001b[0;32m~/.pyenv/versions/3.8.0/lib/python3.8/site-packages/mindspore/ops/composite/multitype_ops/_constexpr_utils.py:56\u001b[0m, in \u001b[0;36mraise_value_error\u001b[0;34m(msg)\u001b[0m\n\u001b[1;32m     53\u001b[0m \u001b[39m@constexpr\u001b[39m\n\u001b[1;32m     54\u001b[0m \u001b[39mdef\u001b[39;00m \u001b[39mraise_value_error\u001b[39m(msg):\n\u001b[1;32m     55\u001b[0m \u001b[39m    \u001b[39m\u001b[39m\"\"\"Constexpr for raise_value_error.\"\"\"\u001b[39;00m\n\u001b[0;32m---> 56\u001b[0m     \u001b[39mraise\u001b[39;00m \u001b[39mValueError\u001b[39;00m(msg)\n",
      "\u001b[0;31mValueError\u001b[0m: Expect Tensor to have dimension between 1 and 8."
     ]
    }
   ],
   "source": [
    "for i in range(1):\n",
    "    rho = rand_density_matrix(2, 1)\n",
    "    v1 = CHSH_max(rho)\n",
    "    print(f\"CHSH max: {v1:.7f}\")\n",
    "    v2 = train2(rho)[0]\n",
    "    print(f\"estimate: {v2:.7f}\")\n",
    "    if not np.allclose(v1, v2):\n",
    "        print(f\"Wrong!\\nrho:{rho}\")\n",
    "        break"
   ]
  },
  {
   "cell_type": "code",
   "execution_count": 52,
   "metadata": {},
   "outputs": [
    {
     "name": "stdout",
     "output_type": "stream",
     "text": [
      "1.10.1\n"
     ]
    }
   ],
   "source": [
    "import mindspore\n",
    "\n",
    "print(mindspore.__version__)"
   ]
  },
  {
   "cell_type": "code",
   "execution_count": 16,
   "metadata": {},
   "outputs": [
    {
     "data": {
      "text/plain": [
       "Tensor(shape=[3], dtype=Int64, value= [1, 2, 3])"
      ]
     },
     "execution_count": 16,
     "metadata": {},
     "output_type": "execute_result"
    }
   ],
   "source": [
    "a = Tensor((1, 2, 3))\n",
    "a"
   ]
  },
  {
   "cell_type": "code",
   "execution_count": 17,
   "metadata": {},
   "outputs": [
    {
     "data": {
      "text/plain": [
       "Tensor(shape=[3, 3], dtype=Int64, value=\n",
       "[[1, 2, 3],\n",
       " [4, 5, 6],\n",
       " [7, 8, 9]])"
      ]
     },
     "execution_count": 17,
     "metadata": {},
     "output_type": "execute_result"
    }
   ],
   "source": [
    "t = Tensor(np.array([[1, 2, 3], [4,5,6], [7,8,9]]))\n",
    "t"
   ]
  },
  {
   "cell_type": "code",
   "execution_count": 18,
   "metadata": {},
   "outputs": [
    {
     "data": {
      "text/plain": [
       "Tensor(shape=[3], dtype=Int64, value= [ 7, 16, 27])"
      ]
     },
     "execution_count": 18,
     "metadata": {},
     "output_type": "execute_result"
    }
   ],
   "source": [
    "t[2, :] * a"
   ]
  },
  {
   "cell_type": "code",
   "execution_count": 20,
   "metadata": {},
   "outputs": [
    {
     "data": {
      "text/plain": [
       "Tensor(shape=[3, 3], dtype=Int64, value=\n",
       "[[ 1,  4,  9],\n",
       " [ 4, 10, 18],\n",
       " [ 7, 16, 27]])"
      ]
     },
     "execution_count": 20,
     "metadata": {},
     "output_type": "execute_result"
    }
   ],
   "source": [
    "ops.stack((t[0, :] * a, t[1, :] * a, t[2, :] * a))"
   ]
  },
  {
   "cell_type": "code",
   "execution_count": 23,
   "metadata": {},
   "outputs": [
    {
     "data": {
      "text/plain": [
       "Tensor(shape=[3, 3], dtype=Int64, value=\n",
       "[[-1, -2, -3],\n",
       " [-4, -5, -6],\n",
       " [-7, -8, -9]])"
      ]
     },
     "execution_count": 23,
     "metadata": {},
     "output_type": "execute_result"
    }
   ],
   "source": [
    "-t"
   ]
  },
  {
   "cell_type": "code",
   "execution_count": 42,
   "metadata": {},
   "outputs": [
    {
     "data": {
      "text/plain": [
       "<mindspore._c_expression.ParamInfo at 0x7f892950f360>"
      ]
     },
     "execution_count": 42,
     "metadata": {},
     "output_type": "execute_result"
    }
   ],
   "source": [
    "theta = Parameter(np.zeros((1,)), requires_grad=True, name=\"theta\")\n",
    "phi = Parameter(np.zeros((1,)), requires_grad=True, name=\"phi\")\n",
    "a = ops.concat((ops.cos(theta) * ops.sin(phi), ops.sin(theta) * ops.sin(phi), ops.cos(phi)), axis=0)\n",
    "a.param_info\n",
    "theta.param_info"
   ]
  },
  {
   "cell_type": "code",
   "execution_count": 15,
   "metadata": {},
   "outputs": [
    {
     "data": {
      "text/plain": [
       "array([3.80410183])"
      ]
     },
     "execution_count": 15,
     "metadata": {},
     "output_type": "execute_result"
    }
   ],
   "source": [
    "np.random.rand(1,) * np.pi * 2"
   ]
  }
 ],
 "metadata": {
  "kernelspec": {
   "display_name": "Python 3",
   "language": "python",
   "name": "python3"
  },
  "language_info": {
   "codemirror_mode": {
    "name": "ipython",
    "version": 3
   },
   "file_extension": ".py",
   "mimetype": "text/x-python",
   "name": "python",
   "nbconvert_exporter": "python",
   "pygments_lexer": "ipython3",
   "version": "3.8.0"
  },
  "orig_nbformat": 4
 },
 "nbformat": 4,
 "nbformat_minor": 2
}
