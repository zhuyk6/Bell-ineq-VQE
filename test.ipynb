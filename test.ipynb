{
 "cells": [
  {
   "cell_type": "code",
   "execution_count": 1,
   "metadata": {},
   "outputs": [],
   "source": [
    "import sympy as sym"
   ]
  },
  {
   "cell_type": "code",
   "execution_count": 16,
   "metadata": {},
   "outputs": [
    {
     "data": {
      "text/latex": [
       "$\\displaystyle \\theta$"
      ],
      "text/plain": [
       "theta"
      ]
     },
     "execution_count": 16,
     "metadata": {},
     "output_type": "execute_result"
    }
   ],
   "source": [
    "theta, phi = sym.symbols(\"theta phi\")\n",
    "theta"
   ]
  },
  {
   "cell_type": "code",
   "execution_count": 4,
   "metadata": {},
   "outputs": [
    {
     "data": {
      "text/latex": [
       "$\\displaystyle \\left[\\begin{matrix}0 & 1\\\\1 & 0\\end{matrix}\\right]$"
      ],
      "text/plain": [
       "Matrix([\n",
       "[0, 1],\n",
       "[1, 0]])"
      ]
     },
     "execution_count": 4,
     "metadata": {},
     "output_type": "execute_result"
    }
   ],
   "source": [
    "X = sym.Matrix([[0, 1],\n",
    "                [1, 0]])\n",
    "X"
   ]
  },
  {
   "cell_type": "code",
   "execution_count": 5,
   "metadata": {},
   "outputs": [
    {
     "data": {
      "text/latex": [
       "$\\displaystyle \\left[\\begin{matrix}0 & - 1.0 i\\\\1.0 i & 0\\end{matrix}\\right]$"
      ],
      "text/plain": [
       "Matrix([\n",
       "[    0, -1.0*I],\n",
       "[1.0*I,      0]])"
      ]
     },
     "execution_count": 5,
     "metadata": {},
     "output_type": "execute_result"
    }
   ],
   "source": [
    "Y = sym.Matrix([[0, -1j],\n",
    "                [1j, 0]])\n",
    "Y"
   ]
  },
  {
   "cell_type": "code",
   "execution_count": 6,
   "metadata": {},
   "outputs": [
    {
     "data": {
      "text/latex": [
       "$\\displaystyle \\left[\\begin{matrix}1 & 0\\\\0 & -1\\end{matrix}\\right]$"
      ],
      "text/plain": [
       "Matrix([\n",
       "[1,  0],\n",
       "[0, -1]])"
      ]
     },
     "execution_count": 6,
     "metadata": {},
     "output_type": "execute_result"
    }
   ],
   "source": [
    "Z = sym.Matrix([[1, 0],\n",
    "                [0, -1]])\n",
    "Z"
   ]
  },
  {
   "cell_type": "code",
   "execution_count": 17,
   "metadata": {},
   "outputs": [
    {
     "data": {
      "text/plain": [
       "(sin(phi/2)*cos(theta), sin(phi/2)*sin(theta), cos(phi/2))"
      ]
     },
     "execution_count": 17,
     "metadata": {},
     "output_type": "execute_result"
    }
   ],
   "source": [
    "r = (sym.sin(phi / 2) * sym.cos(theta), sym.sin(phi / 2) * sym.sin(theta), sym.cos(phi / 2))\n",
    "r"
   ]
  },
  {
   "cell_type": "code",
   "execution_count": 18,
   "metadata": {},
   "outputs": [
    {
     "data": {
      "text/latex": [
       "$\\displaystyle \\left[\\begin{matrix}\\cos{\\left(\\frac{\\phi}{2} \\right)} & 1.0 e^{- i \\theta} \\sin{\\left(\\frac{\\phi}{2} \\right)}\\\\1.0 e^{i \\theta} \\sin{\\left(\\frac{\\phi}{2} \\right)} & - \\cos{\\left(\\frac{\\phi}{2} \\right)}\\end{matrix}\\right]$"
      ],
      "text/plain": [
       "Matrix([\n",
       "[                 cos(phi/2), 1.0*exp(-I*theta)*sin(phi/2)],\n",
       "[1.0*exp(I*theta)*sin(phi/2),                  -cos(phi/2)]])"
      ]
     },
     "execution_count": 18,
     "metadata": {},
     "output_type": "execute_result"
    }
   ],
   "source": [
    "observable = r[0] * X + r[1] * Y + r[2] * Z\n",
    "observable = sym.simplify(observable)\n",
    "observable"
   ]
  },
  {
   "cell_type": "code",
   "execution_count": 14,
   "metadata": {},
   "outputs": [],
   "source": [
    "def Rz(theta: sym.Symbol):\n",
    "    return sym.Matrix([[sym.exp(-1j * theta / 2), 0],\n",
    "                       [0, sym.exp(1j * theta / 2)]])\n",
    "\n",
    "def Ry(theta: sym.Symbol):\n",
    "    return sym.Matrix([[sym.cos(theta / 2), -sym.sin(theta / 2)],\n",
    "                       [sym.sin(theta / 2), sym.cos(theta / 2)]])"
   ]
  },
  {
   "cell_type": "code",
   "execution_count": 21,
   "metadata": {},
   "outputs": [],
   "source": [
    "def decomposition_ZY(alpha, beta, gamma, delta):\n",
    "    return sym.exp(1j * alpha) * Rz(beta) * Ry(gamma) * Rz(delta)"
   ]
  },
  {
   "cell_type": "code",
   "execution_count": 23,
   "metadata": {},
   "outputs": [
    {
     "data": {
      "text/latex": [
       "$\\displaystyle \\left[\\begin{matrix}\\cos{\\left(\\frac{\\phi}{2} \\right)} & - e^{- 1.0 i \\left(\\theta - \\pi\\right)} \\sin{\\left(\\frac{\\phi}{2} \\right)}\\\\e^{i \\theta} \\sin{\\left(\\frac{\\phi}{2} \\right)} & - \\cos{\\left(\\frac{\\phi}{2} \\right)}\\end{matrix}\\right]$"
      ],
      "text/plain": [
       "Matrix([\n",
       "[             cos(phi/2), -exp(-1.0*I*(theta - pi))*sin(phi/2)],\n",
       "[exp(I*theta)*sin(phi/2),                          -cos(phi/2)]])"
      ]
     },
     "execution_count": 23,
     "metadata": {},
     "output_type": "execute_result"
    }
   ],
   "source": [
    "u = decomposition_ZY(sym.pi / 2, theta, phi, sym.pi - theta)\n",
    "u = sym.simplify(u)\n",
    "u"
   ]
  },
  {
   "cell_type": "code",
   "execution_count": 24,
   "metadata": {},
   "outputs": [
    {
     "data": {
      "text/latex": [
       "$\\displaystyle \\left[\\begin{matrix}\\cos{\\left(\\frac{\\phi}{2} \\right)} & 1.0 e^{- i \\theta} \\sin{\\left(\\frac{\\phi}{2} \\right)}\\\\1.0 e^{i \\theta} \\sin{\\left(\\frac{\\phi}{2} \\right)} & - \\cos{\\left(\\frac{\\phi}{2} \\right)}\\end{matrix}\\right]$"
      ],
      "text/plain": [
       "Matrix([\n",
       "[                 cos(phi/2), 1.0*exp(-I*theta)*sin(phi/2)],\n",
       "[1.0*exp(I*theta)*sin(phi/2),                  -cos(phi/2)]])"
      ]
     },
     "execution_count": 24,
     "metadata": {},
     "output_type": "execute_result"
    }
   ],
   "source": [
    "observable"
   ]
  },
  {
   "attachments": {},
   "cell_type": "markdown",
   "metadata": {},
   "source": [
    "\n",
    "# Find $U$\n",
    "\n",
    "$$\n",
    "\\rho \\xrightarrow[]{U} U \\rho U^\\dagger \\xrightarrow[]{M} tr \\left( M U \\rho U^\\dagger \\right)\n",
    "$$\n",
    "\n",
    "First consider $A\\otimes B$ \n",
    "\n",
    "$$\n",
    "\\begin{align}\n",
    "tr \\left( A \\otimes B  \\rho \\right) & = \\sum_{ j,k  }^{  } p \\left( j,k  \\right) a_{j} b_{k }  \\\\\n",
    "& = \\sum_{ j,k  }^{  } a_j b_k tr \\left( \\left| a_j  \\right\\rangle \\left\\langle a_j  \\right| \\otimes \\left| a_k  \\right\\rangle \\left\\langle b_k  \\right| \\rho \\right) \\\\\n",
    "\\end{align}\n",
    "$$\n",
    "\n",
    "Let $U_A \\left| a_j  \\right\\rangle = \\left| j  \\right\\rangle$ and $U_B \\left| b_k  \\right\\rangle = \\left| k \\right\\rangle$, then \n",
    "\n",
    "$$\n",
    "\\begin{align}\n",
    "    tr \\left( A \\otimes B \\rho  \\right)\n",
    "    & = \\sum_{j, k   }^{  } a_j b_k tr \\left( \\left( U_A^\\dagger \\left| j \\right\\rangle \\left\\langle j \\right| U_{A } \\right) \\otimes \\left( U_{B }^{\\dagger} \\left| k \\right\\rangle \\left\\langle k \\right| U_{B }  \\right) \\rho  \\right) \\\\\n",
    "    & = \\sum_{ j, k  }^{  } a_j b_k tr \\left( \\left( U_A^{\\dagger} \\otimes U_{B }^{\\dagger} \\right) \\left( \\left| j \\right\\rangle \\left\\langle j \\right| \\otimes \\left| k \\right\\rangle \\left\\langle k \\right|  \\right) \\left( U_A \\otimes U_B \\right) \\right) \n",
    "\\end{align}\n",
    "$$\n",
    "\n",
    "Let $U = U_{A } \\otimes U_{B }$ , $M = Z \\otimes Z$, then \n",
    "\n",
    "$$\n",
    "tr \\left( A \\otimes B \\rho  \\right) = tr \\left( U^{\\dagger} M U \\rho  \\right) = tr \\left( M U \\rho U^{\\dagger} \\right)\n",
    "$$\n",
    "\n",
    "\n",
    "Consider $A = \\vec{a} \\cdot \\vec{\\sigma} = \\left| + \\right\\rangle \\left\\langle + \\right| - \\left| - \\right\\rangle \\left\\langle - \\right|$, then $U = \\left| 0 \\right\\rangle \\left\\langle + \\right| + \\left| 1 \\right\\rangle \\left\\langle - \\right|$ . \n",
    "\n",
    "In $\\Re^3$, $\\vec{a} = \\vec{r}(\\theta, \\phi)$, then \n",
    "\n",
    "$$\n",
    "\\begin{align}\n",
    "    \\left| + \\right\\rangle & = \\vec{r}(\\theta, \\phi) = \\cos{\\frac{ \\theta }{ 2  }} \\left| 0 \\right\\rangle + e^{i \\phi } \\sin{ \\frac{ \\theta  }{ 2  }} \\left| 1 \\right\\rangle \\\\\n",
    "    \\left| - \\right\\rangle & = \\vec{r}(\\pi - \\theta, \\pi + \\phi) = \\sin{\\frac{ \\theta  }{ 2  }} \\left| 0 \\right\\rangle - e^{i \\phi } \\cos{ \\frac{ \\theta  }{ 2  }} \\left| 1 \\right\\rangle\n",
    "\\end{align}\n",
    "$$\n",
    "\n",
    "We can calculate \n",
    "\n",
    "$$\n",
    "\\begin{align}\n",
    "    U & = \\left| 0 \\right\\rangle \\left\\langle + \\right| + \\left| 1 \\right\\rangle \\left\\langle - \\right| \\\\\n",
    "    & = \\begin{bmatrix}\n",
    "        \\cos{ \\frac{ \\theta  }{ 2  }} & e^{-i\\phi } \\sin{ \\frac{ \\theta  }{ 2  }} \\\\\n",
    "        \\sin{\\frac{ \\theta  }{ 2 }} & -e^{-i\\phi} \\cos{\\frac{ \\theta  }{ 2 }}\n",
    "    \\end{bmatrix}\n",
    "\\end{align}\n",
    "$$\n",
    "\n",
    "For any $U$, using Z-Y decomposition \n",
    "\n",
    "$$\n",
    "\\begin{align}\n",
    "    U & = e^{i \\alpha} R_z(\\beta) R_y(\\gamma) R_z(\\delta) \\\\ \n",
    "    & = e^{i \\left( \\alpha + \\frac{ -\\beta - \\delta  }{ 2  } \\right)}\\begin{bmatrix}\n",
    "        \\cos{\\frac{ \\gamma  }{ 2  }} & -e^{i \\delta } \\sin{\\frac{ \\gamma  }{ 2  }} \\\\\n",
    "        e^{i \\beta}\\sin{\\frac{ \\gamma  }{ 2 }} & e^{i (\\beta + \\delta)} \\cos{\\frac{ \\gamma  }{ 2 }}\n",
    "    \\end{bmatrix}\n",
    "\\end{align}\n",
    "$$\n",
    "\n",
    "Let \n",
    "$$\n",
    "\\begin{cases}\n",
    "    \\gamma = \\theta\\\\\n",
    "    \\beta = 0 \\\\\n",
    "    \\alpha = \\frac{\\delta  }{ 2  } = \\frac{ \\pi - \\phi  }{ 2 } \\\\\n",
    "    \\delta = -\\pi - \\phi  = \\pi - \\phi\n",
    "\\end{cases}\n",
    "$$\n",
    "\n",
    "then \n",
    "\n",
    "$$\n",
    "U_A = e^{i \\left( \\frac{ \\pi  }{ 2  } - \\frac{ \\phi  }{ 2  } \\right)} R_z(0) R_y(\\theta ) R_z(\\pi - \\phi)\n",
    "$$\n"
   ]
  },
  {
   "cell_type": "code",
   "execution_count": 2,
   "metadata": {},
   "outputs": [],
   "source": [
    "import sympy as sym\n",
    "import numpy as np"
   ]
  },
  {
   "cell_type": "code",
   "execution_count": 8,
   "metadata": {},
   "outputs": [
    {
     "data": {
      "text/latex": [
       "$\\displaystyle \\theta$"
      ],
      "text/plain": [
       "theta"
      ]
     },
     "execution_count": 8,
     "metadata": {},
     "output_type": "execute_result"
    }
   ],
   "source": [
    "theta, phi = sym.symbols(\"theta phi\", real=True)\n",
    "theta"
   ]
  },
  {
   "cell_type": "code",
   "execution_count": 3,
   "metadata": {},
   "outputs": [
    {
     "data": {
      "text/latex": [
       "$\\displaystyle \\left[\\begin{matrix}1\\\\0\\end{matrix}\\right]$"
      ],
      "text/plain": [
       "Matrix([\n",
       "[1],\n",
       "[0]])"
      ]
     },
     "execution_count": 3,
     "metadata": {},
     "output_type": "execute_result"
    }
   ],
   "source": [
    "zero = sym.Matrix([[1], [0]])\n",
    "zero"
   ]
  },
  {
   "cell_type": "code",
   "execution_count": 4,
   "metadata": {},
   "outputs": [
    {
     "data": {
      "text/latex": [
       "$\\displaystyle \\left[\\begin{matrix}0\\\\1\\end{matrix}\\right]$"
      ],
      "text/plain": [
       "Matrix([\n",
       "[0],\n",
       "[1]])"
      ]
     },
     "execution_count": 4,
     "metadata": {},
     "output_type": "execute_result"
    }
   ],
   "source": [
    "one = sym.Matrix([[0], [1]])\n",
    "one"
   ]
  },
  {
   "cell_type": "code",
   "execution_count": 9,
   "metadata": {},
   "outputs": [
    {
     "data": {
      "text/latex": [
       "$\\displaystyle \\left[\\begin{matrix}\\cos{\\left(\\frac{\\theta}{2} \\right)}\\\\e^{1.0 i \\phi} \\sin{\\left(\\frac{\\theta}{2} \\right)}\\end{matrix}\\right]$"
      ],
      "text/plain": [
       "Matrix([\n",
       "[               cos(theta/2)],\n",
       "[exp(1.0*I*phi)*sin(theta/2)]])"
      ]
     },
     "execution_count": 9,
     "metadata": {},
     "output_type": "execute_result"
    }
   ],
   "source": [
    "plus = sym.Matrix([[sym.cos(theta / 2)], [sym.exp(1j * phi) * sym.sin(theta / 2)]])\n",
    "plus"
   ]
  },
  {
   "cell_type": "code",
   "execution_count": 10,
   "metadata": {},
   "outputs": [
    {
     "data": {
      "text/latex": [
       "$\\displaystyle \\left[\\begin{matrix}\\sin{\\left(\\frac{\\theta}{2} \\right)}\\\\- e^{1.0 i \\phi} \\cos{\\left(\\frac{\\theta}{2} \\right)}\\end{matrix}\\right]$"
      ],
      "text/plain": [
       "Matrix([\n",
       "[                sin(theta/2)],\n",
       "[-exp(1.0*I*phi)*cos(theta/2)]])"
      ]
     },
     "execution_count": 10,
     "metadata": {},
     "output_type": "execute_result"
    }
   ],
   "source": [
    "minus = sym.Matrix([[sym.sin(theta / 2)], [-sym.exp(1j * phi) * sym.cos(theta / 2)]])\n",
    "minus"
   ]
  },
  {
   "cell_type": "code",
   "execution_count": 11,
   "metadata": {},
   "outputs": [
    {
     "data": {
      "text/latex": [
       "$\\displaystyle \\left[\\begin{matrix}\\cos{\\left(\\frac{\\theta}{2} \\right)} & e^{- 1.0 i \\phi} \\sin{\\left(\\frac{\\theta}{2} \\right)}\\end{matrix}\\right]$"
      ],
      "text/plain": [
       "Matrix([[cos(theta/2), exp(-1.0*I*phi)*sin(theta/2)]])"
      ]
     },
     "execution_count": 11,
     "metadata": {},
     "output_type": "execute_result"
    }
   ],
   "source": [
    "plus.adjoint()"
   ]
  },
  {
   "cell_type": "code",
   "execution_count": 12,
   "metadata": {},
   "outputs": [
    {
     "data": {
      "text/latex": [
       "$\\displaystyle \\left[\\begin{matrix}\\cos{\\left(\\frac{\\theta}{2} \\right)} & e^{- 1.0 i \\phi} \\sin{\\left(\\frac{\\theta}{2} \\right)}\\\\\\sin{\\left(\\frac{\\theta}{2} \\right)} & - e^{- 1.0 i \\phi} \\cos{\\left(\\frac{\\theta}{2} \\right)}\\end{matrix}\\right]$"
      ],
      "text/plain": [
       "Matrix([\n",
       "[cos(theta/2),  exp(-1.0*I*phi)*sin(theta/2)],\n",
       "[sin(theta/2), -exp(-1.0*I*phi)*cos(theta/2)]])"
      ]
     },
     "execution_count": 12,
     "metadata": {},
     "output_type": "execute_result"
    }
   ],
   "source": [
    "U_A = zero * plus.adjoint() + one * minus.adjoint()\n",
    "U_A "
   ]
  },
  {
   "cell_type": "code",
   "execution_count": 13,
   "metadata": {},
   "outputs": [],
   "source": [
    "def Rz(theta: sym.Symbol):\n",
    "    return sym.Matrix([[sym.exp(-1j * theta / 2), 0],\n",
    "                       [0, sym.exp(1j * theta / 2)]])\n",
    "\n",
    "def Ry(theta: sym.Symbol):\n",
    "    return sym.Matrix([[sym.cos(theta / 2), -sym.sin(theta / 2)],\n",
    "                       [sym.sin(theta / 2), sym.cos(theta / 2)]])"
   ]
  },
  {
   "cell_type": "code",
   "execution_count": 15,
   "metadata": {},
   "outputs": [
    {
     "data": {
      "text/latex": [
       "$\\displaystyle \\left[\\begin{matrix}\\cos{\\left(\\frac{\\theta}{2} \\right)} & - e^{- 1.0 i \\left(\\phi - \\pi\\right)} \\sin{\\left(\\frac{\\theta}{2} \\right)}\\\\\\sin{\\left(\\frac{\\theta}{2} \\right)} & e^{- 1.0 i \\left(\\phi - \\pi\\right)} \\cos{\\left(\\frac{\\theta}{2} \\right)}\\end{matrix}\\right]$"
      ],
      "text/plain": [
       "Matrix([\n",
       "[cos(theta/2), -exp(-1.0*I*(phi - pi))*sin(theta/2)],\n",
       "[sin(theta/2),  exp(-1.0*I*(phi - pi))*cos(theta/2)]])"
      ]
     },
     "execution_count": 15,
     "metadata": {},
     "output_type": "execute_result"
    }
   ],
   "source": [
    "decomp = sym.exp(1j * (sym.pi / 2 - phi / 2)) * Rz(0) * Ry(theta) * Rz(sym.pi - phi)\n",
    "decomp = sym.simplify(decomp)\n",
    "decomp"
   ]
  },
  {
   "cell_type": "code",
   "execution_count": 16,
   "metadata": {},
   "outputs": [
    {
     "data": {
      "text/plain": [
       "True"
      ]
     },
     "execution_count": 16,
     "metadata": {},
     "output_type": "execute_result"
    }
   ],
   "source": [
    "U_A.equals(decomp)"
   ]
  },
  {
   "attachments": {},
   "cell_type": "markdown",
   "metadata": {},
   "source": [
    "# Coding"
   ]
  },
  {
   "cell_type": "code",
   "execution_count": 3,
   "metadata": {},
   "outputs": [],
   "source": [
    "import numpy as np\n",
    "from mindquantum.simulator import Simulator\n",
    "from mindquantum.core.circuit import Circuit\n",
    "from mindquantum.core.parameterresolver import ParameterResolver\n",
    "from mindquantum.core.operators import Hamiltonian, QubitOperator\n",
    "from mindquantum.core.gates import RZ, RY\n",
    "import mindspore as ms\n",
    "\n",
    "ms.context.set_context(mode=ms.context.PYNATIVE_MODE, device_target=\"CPU\")"
   ]
  },
  {
   "cell_type": "code",
   "execution_count": 19,
   "metadata": {},
   "outputs": [
    {
     "data": {
      "text/plain": [
       "array([[ 0. ,  0. ,  0. ,  0. ],\n",
       "       [ 0. ,  0.5, -0.5,  0. ],\n",
       "       [ 0. , -0.5,  0.5,  0. ],\n",
       "       [ 0. ,  0. ,  0. ,  0. ]])"
      ]
     },
     "execution_count": 19,
     "metadata": {},
     "output_type": "execute_result"
    }
   ],
   "source": [
    "rho0 = np.array([[0, 0, 0, 0],\n",
    "                 [0, 1, -1, 0],\n",
    "                 [0, -1, 1, 0],\n",
    "                 [0, 0, 0, 0]]) / 2\n",
    "rho0"
   ]
  },
  {
   "cell_type": "code",
   "execution_count": 21,
   "metadata": {},
   "outputs": [
    {
     "data": {
      "text/plain": [
       "array([[ 0. -0.j,  0. -0.j,  0. -0.j,  0. -0.j],\n",
       "       [ 0. +0.j,  0.5-0.j, -0.5-0.j,  0. -0.j],\n",
       "       [ 0. +0.j, -0.5+0.j,  0.5-0.j,  0. -0.j],\n",
       "       [ 0. +0.j,  0. +0.j,  0. +0.j,  0. -0.j]])"
      ]
     },
     "execution_count": 21,
     "metadata": {},
     "output_type": "execute_result"
    }
   ],
   "source": [
    "sim = Simulator(backend=\"mqmatrix\", n_qubits=2)\n",
    "sim.set_qs(rho0)\n",
    "sim.get_qs()"
   ]
  },
  {
   "cell_type": "code",
   "execution_count": 4,
   "metadata": {},
   "outputs": [],
   "source": [
    "def generate_circuit(p1: int, p2: int) -> Circuit:\n",
    "    circ = Circuit()\n",
    "\n",
    "    circ += RZ(pr=ParameterResolver(\n",
    "        data={f\"phi{p1}\": -1},\n",
    "        const=np.pi,\n",
    "    )).on(0)\n",
    "    circ += RY(f\"theta{p1}\").on(0)\n",
    "\n",
    "    circ += RZ(pr=ParameterResolver(\n",
    "        data={f\"phi{p2}\": -1},\n",
    "        const=np.pi,\n",
    "    )).on(1)\n",
    "    circ += RY(f\"theta{p2}\").on(1)\n",
    "\n",
    "    return circ"
   ]
  },
  {
   "attachments": {},
   "cell_type": "markdown",
   "metadata": {},
   "source": [
    "\n",
    "| $A$ | $A'$ | $B$ | $B'$ |\n",
    "| --- | -----| --- | --- |\n",
    "| $\\theta_1, \\phi_1$ | $\\theta_2, \\phi_2$ | $\\theta_3, \\phi_3$ | $\\theta_4, \\phi_4$ |"
   ]
  },
  {
   "cell_type": "code",
   "execution_count": 30,
   "metadata": {},
   "outputs": [
    {
     "data": {
      "text/html": [
       "<pre style=\"white-space:pre;overflow-x:auto;line-height:normal;font-family:Menlo,'DejaVu Sans Mono',consolas,'Courier New',monospace\"></pre>\n"
      ],
      "text/plain": []
     },
     "metadata": {},
     "output_type": "display_data"
    },
    {
     "data": {
      "text/html": [
       "<pre style=\"white-space: pre;\"><span style=\"color: #000080; text-decoration-color: #000080; font-weight: bold\">q0: ──</span><span style=\"color: #800080; text-decoration-color: #800080; font-weight: bold\">RZ</span><span style=\"color: #000080; text-decoration-color: #000080; font-weight: bold\">(-phi1 + π)────</span><span style=\"color: #800080; text-decoration-color: #800080; font-weight: bold\">RY</span><span style=\"color: #000080; text-decoration-color: #000080; font-weight: bold\">(theta1)──</span>\n",
       "\n",
       "<span style=\"color: #000080; text-decoration-color: #000080; font-weight: bold\">q1: ──</span><span style=\"color: #800080; text-decoration-color: #800080; font-weight: bold\">RZ</span><span style=\"color: #000080; text-decoration-color: #000080; font-weight: bold\">(-phi3 + π)────</span><span style=\"color: #800080; text-decoration-color: #800080; font-weight: bold\">RY</span><span style=\"color: #000080; text-decoration-color: #000080; font-weight: bold\">(theta3)──</span>\n",
       "</pre>\n"
      ],
      "text/plain": [
       "q0: ──RZ(-phi1 + π)────RY(theta1)──\n",
       "\n",
       "q1: ──RZ(-phi3 + π)────RY(theta3)──"
      ]
     },
     "execution_count": 30,
     "metadata": {},
     "output_type": "execute_result"
    }
   ],
   "source": [
    "# A x B\n",
    "circ1 = generate_circuit(1, 3)\n",
    "circ1"
   ]
  },
  {
   "cell_type": "code",
   "execution_count": 31,
   "metadata": {},
   "outputs": [],
   "source": [
    "# A x B'\n",
    "circ2 = generate_circuit(1, 4)\n",
    "\n",
    "# A' x B\n",
    "circ3 = generate_circuit(2, 3)\n",
    "\n",
    "# A' x B' \n",
    "circ4 = generate_circuit(2, 4)"
   ]
  },
  {
   "cell_type": "code",
   "execution_count": 35,
   "metadata": {},
   "outputs": [
    {
     "name": "stdout",
     "output_type": "stream",
     "text": [
      "1 [Z0 Z1] \n"
     ]
    }
   ],
   "source": [
    "ham = Hamiltonian(QubitOperator(\"Z0 Z1\", 1))\n",
    "print(ham)"
   ]
  },
  {
   "cell_type": "code",
   "execution_count": 42,
   "metadata": {},
   "outputs": [],
   "source": [
    "grad_ops1 = sim.get_expectation_with_grad(ham, circ1)\n",
    "grad_ops2 = sim.get_expectation_with_grad(ham, circ2)\n",
    "grad_ops3 = sim.get_expectation_with_grad(ham, circ3)\n",
    "grad_ops4 = sim.get_expectation_with_grad(ham, circ4)"
   ]
  },
  {
   "cell_type": "code",
   "execution_count": 5,
   "metadata": {},
   "outputs": [],
   "source": [
    "from mindquantum.framework import MQAnsatzOnlyOps\n",
    "\n",
    "class QNet(ms.nn.Cell):\n",
    "    def __init__(self, grad_ops1, grad_ops2, grad_ops3, grad_ops4) -> None:\n",
    "        super().__init__()\n",
    "        self.w = ms.Parameter(ms.Tensor(np.random.uniform(-np.pi, np.pi, 8).astype(np.float32)), name=\"weight\")\n",
    "        self.q_ops1 = MQAnsatzOnlyOps(grad_ops1)\n",
    "        self.q_ops2 = MQAnsatzOnlyOps(grad_ops2)\n",
    "        self.q_ops3 = MQAnsatzOnlyOps(grad_ops3)\n",
    "        self.q_ops4 = MQAnsatzOnlyOps(grad_ops4)\n",
    "    \n",
    "    def construct(self):\n",
    "        # w[[0, 1]] -- theta1, phi1\n",
    "        # w[[2, 3]] -- theta2, phi2\n",
    "        # w[[4, 5]] -- theta3, phi3\n",
    "        # w[[6, 7]] -- theta4, phi4\n",
    "        e1 = self.q_ops1(self.w[[0, 1, 4, 5]])\n",
    "        e2 = self.q_ops2(self.w[[0, 1, 6, 7]])\n",
    "        e3 = self.q_ops3(self.w[[2, 3, 4, 5]])\n",
    "        e4 = self.q_ops4(self.w[[2, 3, 6, 7]])\n",
    "        return -(e1 + e2 + e3 - e4)\n"
   ]
  },
  {
   "cell_type": "code",
   "execution_count": 57,
   "metadata": {},
   "outputs": [
    {
     "name": "stdout",
     "output_type": "stream",
     "text": [
      "epoch =   0\testimite=-1.9879297\n",
      "epoch =  10\testimite=1.5101080\n",
      "epoch =  20\testimite=2.3709080\n",
      "epoch =  30\testimite=2.6136467\n",
      "epoch =  40\testimite=2.7672482\n",
      "epoch =  50\testimite=2.8128581\n",
      "epoch =  60\testimite=2.8237157\n",
      "epoch =  70\testimite=2.8264503\n",
      "epoch =  80\testimite=2.8274522\n",
      "epoch =  90\testimite=2.8279748\n",
      "epoch =  100\testimite=2.8283036\n",
      "epoch =  110\testimite=2.8283563\n",
      "epoch =  120\testimite=2.8284063\n",
      "epoch =  130\testimite=2.8284206\n",
      "epoch =  140\testimite=2.8284235\n",
      "epoch =  150\testimite=2.8284264\n",
      "epoch =  160\testimite=2.8284271\n",
      "epoch =  170\testimite=2.8284271\n",
      "epoch =  180\testimite=2.8284271\n",
      "epoch =  190\testimite=2.8284273\n"
     ]
    }
   ],
   "source": [
    "qnet = QNet(grad_ops1, grad_ops2, grad_ops3, grad_ops4)\n",
    "optimizer = ms.nn.Adam(qnet.trainable_params(), learning_rate=0.1)\n",
    "train_net = ms.nn.TrainOneStepCell(qnet, optimizer)\n",
    "\n",
    "for i in range(200):\n",
    "    f = train_net().asnumpy()\n",
    "    if i % 10 == 0:\n",
    "        print(f\"epoch = {i: 3}\\testimite={-f[0]:.7f}\")"
   ]
  },
  {
   "cell_type": "code",
   "execution_count": 6,
   "metadata": {},
   "outputs": [],
   "source": [
    "def CHSH_max(rho: np.matrix):\n",
    "    X = np.matrix([[0, 1], [1, 0]], dtype=np.complex128)\n",
    "    Y = np.matrix([[0, -1j], [1j, 0]], dtype=np.complex128)\n",
    "    Z = np.matrix([[1, 0], [0, -1]], dtype=np.complex128)\n",
    "    sigma = [X, Y, Z]\n",
    "    T = [[(rho @ np.kron(sigma[i], sigma[j])).trace()[0, 0] for j in range(3)] for i in range(3)]\n",
    "    T = np.matrix(T).real\n",
    "    U = T.T @ T\n",
    "    eigens = np.linalg.eigvals(U)\n",
    "    eigens.sort()\n",
    "    return 2.0 * np.sqrt(eigens[-1] + eigens[-2])"
   ]
  },
  {
   "cell_type": "code",
   "execution_count": 7,
   "metadata": {},
   "outputs": [],
   "source": [
    "def rand_state(n_qubits: int) -> np.ndarray:\n",
    "    d = 2**n_qubits\n",
    "    re = np.random.random((d,))\n",
    "    im = np.random.random((d,))\n",
    "    state = re + 1.0j * im\n",
    "    return state / np.linalg.norm(state)\n",
    "\n",
    "def rand_density_matrix(n_qubits: int, m: int) -> np.matrix:\n",
    "    d = 2**n_qubits\n",
    "    probabilities = np.random.random((m, ))\n",
    "    probabilities /= probabilities.sum()\n",
    "\n",
    "    rho = np.zeros((d, d), dtype=np.complex128)\n",
    "    rho = np.asmatrix(rho)\n",
    "    for p in probabilities:\n",
    "        state = np.asmatrix(rand_state(n_qubits))\n",
    "        rho += p * state.H @ state\n",
    "    return rho"
   ]
  },
  {
   "cell_type": "code",
   "execution_count": 8,
   "metadata": {},
   "outputs": [],
   "source": [
    "def CHSH_qnn(rho: np.matrix):\n",
    "    sim = Simulator(backend=\"mqmatrix\", n_qubits=2)\n",
    "    rho = np.asarray(rho)\n",
    "    sim.set_qs(rho)\n",
    "\n",
    "    circ1 = generate_circuit(1, 3)\n",
    "    circ2 = generate_circuit(1, 4)\n",
    "    circ3 = generate_circuit(2, 3)\n",
    "    circ4 = generate_circuit(2, 4)\n",
    "\n",
    "    ham = Hamiltonian(QubitOperator(\"Z0 Z1\", 1))\n",
    "\n",
    "    grad_ops1 = sim.get_expectation_with_grad(ham, circ1)\n",
    "    grad_ops2 = sim.get_expectation_with_grad(ham, circ2)\n",
    "    grad_ops3 = sim.get_expectation_with_grad(ham, circ3)\n",
    "    grad_ops4 = sim.get_expectation_with_grad(ham, circ4)\n",
    "\n",
    "    qnet = QNet(grad_ops1, grad_ops2, grad_ops3, grad_ops4)\n",
    "    optimizer = ms.nn.Adam(qnet.trainable_params(), learning_rate=0.1)\n",
    "    train_net = ms.nn.TrainOneStepCell(qnet, optimizer)\n",
    "\n",
    "    last = np.float32(0)\n",
    "    for i in range(1000):\n",
    "        f = train_net().asnumpy()\n",
    "        if i % 10 == 0:\n",
    "            # print(f\"epoch = {i: 5}\\testimite={-f[0]:.7f}\")\n",
    "            if np.abs(f[0] - last) < 1e-7:\n",
    "                break\n",
    "            last = f[0]\n",
    "    return -last"
   ]
  },
  {
   "cell_type": "code",
   "execution_count": 9,
   "metadata": {},
   "outputs": [
    {
     "name": "stdout",
     "output_type": "stream",
     "text": [
      "epoch: 0\n",
      "CHSH max: 2.5533048\n",
      "Estimate: 2.5533047\n",
      "epoch: 1\n",
      "CHSH max: 2.3946441\n",
      "Estimate: 2.3946440\n",
      "epoch: 2\n",
      "CHSH max: 2.5138419\n",
      "Estimate: 2.5138416\n",
      "epoch: 3\n",
      "CHSH max: 2.0885144\n",
      "Estimate: 2.0885143\n",
      "epoch: 4\n",
      "CHSH max: 2.0484491\n",
      "Estimate: 2.0484488\n",
      "epoch: 5\n",
      "CHSH max: 2.2755139\n",
      "Estimate: 2.2755139\n",
      "epoch: 6\n",
      "CHSH max: 2.0950757\n",
      "Estimate: 2.0950756\n",
      "epoch: 7\n",
      "CHSH max: 2.3003190\n",
      "Estimate: 2.3003190\n",
      "epoch: 8\n",
      "CHSH max: 2.1080799\n",
      "Estimate: 2.1080794\n",
      "epoch: 9\n",
      "CHSH max: 2.0677591\n",
      "Estimate: 2.0677588\n",
      "epoch: 10\n",
      "CHSH max: 2.2906315\n",
      "Estimate: 2.2906315\n",
      "epoch: 11\n",
      "CHSH max: 2.4657228\n",
      "Estimate: 2.4657228\n",
      "epoch: 12\n",
      "CHSH max: 2.3924677\n",
      "Estimate: 2.3924675\n",
      "epoch: 13\n",
      "CHSH max: 2.2278746\n",
      "Estimate: 2.2278745\n",
      "epoch: 14\n",
      "CHSH max: 2.2119809\n",
      "Estimate: 2.2119808\n",
      "epoch: 15\n",
      "CHSH max: 2.2858678\n",
      "Estimate: 2.2858677\n",
      "epoch: 16\n",
      "CHSH max: 2.0478206\n",
      "Estimate: 2.0478206\n",
      "epoch: 17\n",
      "CHSH max: 2.3471376\n",
      "Estimate: 2.3471372\n",
      "epoch: 18\n",
      "CHSH max: 2.7366646\n",
      "Estimate: 2.7366645\n",
      "epoch: 19\n",
      "CHSH max: 2.2085404\n",
      "Estimate: 2.2085402\n",
      "epoch: 20\n",
      "CHSH max: 2.0180561\n",
      "Estimate: 2.0180562\n",
      "epoch: 21\n",
      "CHSH max: 2.2101707\n",
      "Estimate: 2.2101705\n",
      "epoch: 22\n",
      "CHSH max: 2.0304660\n",
      "Estimate: 2.0304661\n",
      "epoch: 23\n",
      "CHSH max: 2.0032217\n",
      "Estimate: 2.0032218\n",
      "epoch: 24\n",
      "CHSH max: 2.1688795\n",
      "Estimate: 2.1688795\n",
      "epoch: 25\n",
      "CHSH max: 2.0621839\n",
      "Estimate: 2.0621836\n",
      "epoch: 26\n",
      "CHSH max: 2.0449030\n",
      "Estimate: 2.0449030\n",
      "epoch: 27\n",
      "CHSH max: 2.0791421\n",
      "Estimate: 2.0791421\n",
      "epoch: 28\n",
      "CHSH max: 2.0277706\n",
      "Estimate: 2.0277705\n",
      "epoch: 29\n",
      "CHSH max: 2.0185437\n",
      "Estimate: 2.0185435\n",
      "epoch: 30\n",
      "CHSH max: 2.0459683\n",
      "Estimate: 2.0459683\n",
      "epoch: 31\n",
      "CHSH max: 2.2465463\n",
      "Estimate: 2.2465460\n",
      "epoch: 32\n",
      "CHSH max: 2.0280896\n",
      "Estimate: 2.0280895\n",
      "epoch: 33\n",
      "CHSH max: 2.2068503\n",
      "Estimate: 2.2068496\n",
      "epoch: 34\n",
      "CHSH max: 2.1971770\n",
      "Estimate: 2.1971769\n",
      "epoch: 35\n",
      "CHSH max: 2.1687082\n",
      "Estimate: 2.1687083\n",
      "epoch: 36\n",
      "CHSH max: 2.3147769\n",
      "Estimate: 2.3147767\n",
      "epoch: 37\n",
      "CHSH max: 2.3984565\n",
      "Estimate: 2.3984563\n",
      "epoch: 38\n",
      "CHSH max: 2.2626226\n",
      "Estimate: 2.2626226\n",
      "epoch: 39\n",
      "CHSH max: 2.1355512\n",
      "Estimate: 2.1355512\n",
      "epoch: 40\n",
      "CHSH max: 2.2123106\n",
      "Estimate: 2.2123103\n",
      "epoch: 41\n",
      "CHSH max: 2.4835347\n",
      "Estimate: 2.4835346\n",
      "epoch: 42\n",
      "CHSH max: 2.1167627\n",
      "Estimate: 2.1167626\n",
      "epoch: 43\n",
      "CHSH max: 2.0469335\n",
      "Estimate: 2.0469332\n",
      "epoch: 44\n",
      "CHSH max: 2.0549705\n",
      "Estimate: 2.0549705\n",
      "epoch: 45\n",
      "CHSH max: 2.2337475\n",
      "Estimate: 2.2337472\n",
      "epoch: 46\n",
      "CHSH max: 2.5099477\n",
      "Estimate: 2.5099475\n",
      "epoch: 47\n",
      "CHSH max: 2.2292593\n",
      "Estimate: 2.2292593\n",
      "epoch: 48\n",
      "CHSH max: 2.5426650\n",
      "Estimate: 2.5426650\n",
      "epoch: 49\n",
      "CHSH max: 2.2528127\n",
      "Estimate: 2.2528126\n",
      "epoch: 50\n",
      "CHSH max: 2.4327349\n",
      "Estimate: 2.4327347\n",
      "epoch: 51\n",
      "CHSH max: 2.4048182\n",
      "Estimate: 2.4048183\n",
      "epoch: 52\n",
      "CHSH max: 2.3349325\n",
      "Estimate: 2.3349326\n",
      "epoch: 53\n",
      "CHSH max: 2.3286691\n",
      "Estimate: 2.3286691\n",
      "epoch: 54\n",
      "CHSH max: 2.4622059\n",
      "Estimate: 2.4622059\n",
      "epoch: 55\n",
      "CHSH max: 2.2527555\n",
      "Estimate: 2.2527554\n",
      "epoch: 56\n",
      "CHSH max: 2.1085753\n",
      "Estimate: 2.1085751\n",
      "epoch: 57\n",
      "CHSH max: 2.0795674\n",
      "Estimate: 2.0795674\n",
      "epoch: 58\n",
      "CHSH max: 2.1491108\n",
      "Estimate: 2.1491108\n",
      "epoch: 59\n",
      "CHSH max: 2.0766648\n",
      "Estimate: 2.0766647\n",
      "epoch: 60\n",
      "CHSH max: 2.0772332\n",
      "Estimate: 2.0772309\n",
      "epoch: 61\n",
      "CHSH max: 2.0985870\n",
      "Estimate: 2.0985870\n",
      "epoch: 62\n",
      "CHSH max: 2.1123764\n",
      "Estimate: 2.1123762\n",
      "epoch: 63\n",
      "CHSH max: 2.1501111\n",
      "Estimate: 2.1501107\n",
      "epoch: 64\n",
      "CHSH max: 2.4222520\n",
      "Estimate: 2.4222517\n",
      "epoch: 65\n",
      "CHSH max: 2.0475955\n",
      "Estimate: 2.0475953\n",
      "epoch: 66\n",
      "CHSH max: 2.0387330\n",
      "Estimate: 2.0387328\n",
      "epoch: 67\n",
      "CHSH max: 2.2534105\n",
      "Estimate: 2.2534106\n",
      "epoch: 68\n",
      "CHSH max: 2.1084652\n",
      "Estimate: 2.1084652\n",
      "epoch: 69\n",
      "CHSH max: 2.0067206\n",
      "Estimate: 2.0067205\n",
      "epoch: 70\n",
      "CHSH max: 2.0915388\n",
      "Estimate: 2.0915389\n",
      "epoch: 71\n",
      "CHSH max: 2.0934094\n",
      "Estimate: 2.0934088\n",
      "epoch: 72\n",
      "CHSH max: 2.2051771\n",
      "Estimate: 2.2051768\n",
      "epoch: 73\n",
      "CHSH max: 2.0517358\n",
      "Estimate: 2.0517356\n",
      "epoch: 74\n",
      "CHSH max: 2.1088105\n",
      "Estimate: 2.1088104\n",
      "epoch: 75\n",
      "CHSH max: 2.1802140\n",
      "Estimate: 2.1802139\n",
      "epoch: 76\n",
      "CHSH max: 2.5800795\n",
      "Estimate: 2.5800793\n",
      "epoch: 77\n",
      "CHSH max: 2.2139862\n",
      "Estimate: 2.2139857\n",
      "epoch: 78\n",
      "CHSH max: 2.2214707\n",
      "Estimate: 2.2214706\n",
      "epoch: 79\n",
      "CHSH max: 2.1851419\n",
      "Estimate: 2.1851416\n",
      "epoch: 80\n",
      "CHSH max: 2.7244516\n",
      "Estimate: 2.7244515\n",
      "epoch: 81\n",
      "CHSH max: 2.1371054\n",
      "Estimate: 2.1371055\n",
      "epoch: 82\n",
      "CHSH max: 2.1228339\n",
      "Estimate: 2.1228242\n",
      "epoch: 83\n",
      "CHSH max: 2.3918557\n",
      "Estimate: 2.3918557\n",
      "epoch: 84\n",
      "CHSH max: 2.2972355\n",
      "Estimate: 2.2972348\n",
      "epoch: 85\n",
      "CHSH max: 2.0050293\n",
      "Estimate: 2.0050292\n",
      "epoch: 86\n",
      "CHSH max: 2.4253149\n",
      "Estimate: 2.4253149\n",
      "epoch: 87\n",
      "CHSH max: 2.1703208\n",
      "Estimate: 2.1703207\n",
      "epoch: 88\n",
      "CHSH max: 2.0218659\n",
      "Estimate: 2.0218658\n",
      "epoch: 89\n",
      "CHSH max: 2.1365388\n",
      "Estimate: 2.1365385\n",
      "epoch: 90\n",
      "CHSH max: 2.5174315\n",
      "Estimate: 2.5174317\n",
      "epoch: 91\n",
      "CHSH max: 2.1374439\n",
      "Estimate: 2.1374438\n",
      "epoch: 92\n",
      "CHSH max: 2.1396563\n",
      "Estimate: 2.1396563\n",
      "epoch: 93\n",
      "CHSH max: 2.0030645\n",
      "Estimate: 2.0030642\n",
      "epoch: 94\n",
      "CHSH max: 2.2544908\n",
      "Estimate: 2.2544906\n",
      "epoch: 95\n",
      "CHSH max: 2.1067713\n",
      "Estimate: 2.1067712\n",
      "epoch: 96\n",
      "CHSH max: 2.0416620\n",
      "Estimate: 2.0416617\n",
      "epoch: 97\n",
      "CHSH max: 2.3239477\n",
      "Estimate: 2.3239477\n",
      "epoch: 98\n",
      "CHSH max: 2.2288123\n",
      "Estimate: 2.2288122\n",
      "epoch: 99\n",
      "CHSH max: 2.3176768\n",
      "Estimate: 2.3176768\n"
     ]
    }
   ],
   "source": [
    "for epoch in range(100):\n",
    "    print(f\"epoch: {epoch}\")\n",
    "    rho_rand = rand_density_matrix(2, 1)\n",
    "    v_opt = CHSH_max(rho_rand)\n",
    "    v_est = CHSH_qnn(rho_rand)\n",
    "    print(f\"CHSH max: {v_opt:.7f}\")\n",
    "    print(f\"Estimate: {v_est:.7f}\")\n",
    "\n",
    "    if np.abs(v_opt - v_est) > 1e-5:\n",
    "        print(f\"Error!\")\n",
    "        print(rho_rand)\n",
    "        break\n"
   ]
  },
  {
   "cell_type": "code",
   "execution_count": 10,
   "metadata": {},
   "outputs": [
    {
     "name": "stdout",
     "output_type": "stream",
     "text": [
      "epoch: 0\n",
      "CHSH max: 1.9264308\n",
      "Estimate: 1.9264308\n",
      "epoch: 1\n",
      "CHSH max: 1.8534671\n",
      "Estimate: 1.8534663\n",
      "epoch: 2\n",
      "CHSH max: 2.0636953\n",
      "Estimate: 2.0636950\n",
      "epoch: 3\n",
      "CHSH max: 2.2562537\n",
      "Estimate: 2.2562523\n",
      "epoch: 4\n",
      "CHSH max: 1.9810932\n",
      "Estimate: 1.9810929\n",
      "epoch: 5\n",
      "CHSH max: 2.0026011\n",
      "Estimate: 2.0026009\n",
      "epoch: 6\n",
      "CHSH max: 1.5368324\n",
      "Estimate: 1.5368325\n",
      "epoch: 7\n",
      "CHSH max: 2.1281668\n",
      "Estimate: 2.1281669\n",
      "epoch: 8\n",
      "CHSH max: 1.7758196\n",
      "Estimate: 1.7758195\n",
      "epoch: 9\n",
      "CHSH max: 1.7724900\n",
      "Estimate: 1.7724898\n",
      "epoch: 10\n",
      "CHSH max: 1.9772965\n",
      "Estimate: 1.9772966\n",
      "epoch: 11\n",
      "CHSH max: 1.9622419\n",
      "Estimate: 1.9622419\n",
      "epoch: 12\n",
      "CHSH max: 1.9719668\n",
      "Estimate: 1.9719666\n",
      "epoch: 13\n",
      "CHSH max: 2.1171578\n",
      "Estimate: 2.1171575\n",
      "epoch: 14\n",
      "CHSH max: 2.0610102\n",
      "Estimate: 2.0610089\n",
      "epoch: 15\n",
      "CHSH max: 1.9598035\n",
      "Estimate: 1.9598035\n",
      "epoch: 16\n",
      "CHSH max: 1.7855095\n",
      "Estimate: 1.7855093\n",
      "epoch: 17\n",
      "CHSH max: 1.9389393\n",
      "Estimate: 1.9389393\n",
      "epoch: 18\n",
      "CHSH max: 1.7350751\n",
      "Estimate: 1.7350750\n",
      "epoch: 19\n",
      "CHSH max: 2.0774923\n",
      "Estimate: 2.0774899\n",
      "epoch: 20\n",
      "CHSH max: 1.8587077\n",
      "Estimate: 1.8587077\n",
      "epoch: 21\n",
      "CHSH max: 1.9812027\n",
      "Estimate: 1.9812026\n",
      "epoch: 22\n",
      "CHSH max: 1.9199402\n",
      "Estimate: 1.9199402\n",
      "epoch: 23\n",
      "CHSH max: 1.9340093\n",
      "Estimate: 1.9340093\n",
      "epoch: 24\n",
      "CHSH max: 1.9433319\n",
      "Estimate: 1.9433320\n",
      "epoch: 25\n",
      "CHSH max: 1.8563894\n",
      "Estimate: 1.8563893\n",
      "epoch: 26\n",
      "CHSH max: 2.0176421\n",
      "Estimate: 2.0176420\n",
      "epoch: 27\n",
      "CHSH max: 2.0085024\n",
      "Estimate: 2.0085025\n",
      "epoch: 28\n",
      "CHSH max: 2.0048976\n",
      "Estimate: 2.0048974\n",
      "epoch: 29\n",
      "CHSH max: 1.7961814\n",
      "Estimate: 1.7961813\n",
      "epoch: 30\n",
      "CHSH max: 1.6726187\n",
      "Estimate: 1.6726187\n",
      "epoch: 31\n",
      "CHSH max: 1.8470560\n",
      "Estimate: 1.8470557\n",
      "epoch: 32\n",
      "CHSH max: 1.9503229\n",
      "Estimate: 1.9503230\n",
      "epoch: 33\n",
      "CHSH max: 1.7390315\n",
      "Estimate: 1.7390313\n",
      "epoch: 34\n",
      "CHSH max: 1.9525450\n",
      "Estimate: 1.9525448\n",
      "epoch: 35\n",
      "CHSH max: 2.0886706\n",
      "Estimate: 2.0886703\n",
      "epoch: 36\n",
      "CHSH max: 2.2652742\n",
      "Estimate: 2.2652740\n",
      "epoch: 37\n",
      "CHSH max: 1.9820776\n",
      "Estimate: 1.9820774\n",
      "epoch: 38\n",
      "CHSH max: 1.9912480\n",
      "Estimate: 1.9912479\n",
      "epoch: 39\n",
      "CHSH max: 1.9013776\n",
      "Estimate: 1.9013776\n",
      "epoch: 40\n",
      "CHSH max: 2.1427100\n",
      "Estimate: 2.1427100\n",
      "epoch: 41\n",
      "CHSH max: 2.0220225\n",
      "Estimate: 2.0220222\n",
      "epoch: 42\n",
      "CHSH max: 1.9194613\n",
      "Estimate: 1.9194613\n",
      "epoch: 43\n",
      "CHSH max: 1.9341620\n",
      "Estimate: 1.9341617\n",
      "epoch: 44\n",
      "CHSH max: 1.8166473\n",
      "Estimate: 1.8166473\n",
      "epoch: 45\n",
      "CHSH max: 2.2302806\n",
      "Estimate: 2.2302804\n",
      "epoch: 46\n",
      "CHSH max: 1.9816557\n",
      "Estimate: 1.9816556\n",
      "epoch: 47\n",
      "CHSH max: 2.0665166\n",
      "Estimate: 2.0665166\n",
      "epoch: 48\n",
      "CHSH max: 2.2611390\n",
      "Estimate: 2.2611389\n",
      "epoch: 49\n",
      "CHSH max: 1.6302499\n",
      "Estimate: 1.6302500\n",
      "epoch: 50\n",
      "CHSH max: 1.9558931\n",
      "Estimate: 1.9558930\n",
      "epoch: 51\n",
      "CHSH max: 2.1126030\n",
      "Estimate: 2.1126029\n",
      "epoch: 52\n",
      "CHSH max: 2.0049354\n",
      "Estimate: 2.0049353\n",
      "epoch: 53\n",
      "CHSH max: 2.0252176\n",
      "Estimate: 2.0252175\n",
      "epoch: 54\n",
      "CHSH max: 2.0587546\n",
      "Estimate: 2.0587544\n",
      "epoch: 55\n",
      "CHSH max: 2.1785194\n",
      "Estimate: 2.1785192\n",
      "epoch: 56\n",
      "CHSH max: 1.9342445\n",
      "Estimate: 1.9342445\n",
      "epoch: 57\n",
      "CHSH max: 2.0547557\n",
      "Estimate: 2.0547557\n",
      "epoch: 58\n",
      "CHSH max: 2.1808151\n",
      "Estimate: 2.1808152\n",
      "epoch: 59\n",
      "CHSH max: 2.3221253\n",
      "Estimate: 2.3221254\n",
      "epoch: 60\n",
      "CHSH max: 2.3796533\n",
      "Estimate: 2.3796530\n",
      "epoch: 61\n",
      "CHSH max: 1.7211288\n",
      "Estimate: 1.7211287\n",
      "epoch: 62\n",
      "CHSH max: 1.9582323\n",
      "Estimate: 1.9582323\n",
      "epoch: 63\n",
      "CHSH max: 2.2831740\n",
      "Estimate: 2.2831740\n",
      "epoch: 64\n",
      "CHSH max: 1.9916064\n",
      "Estimate: 1.9916064\n",
      "epoch: 65\n",
      "CHSH max: 1.9679558\n",
      "Estimate: 1.9679558\n",
      "epoch: 66\n",
      "CHSH max: 1.8835307\n",
      "Estimate: 1.8835306\n",
      "epoch: 67\n",
      "CHSH max: 2.1021225\n",
      "Estimate: 2.1021223\n",
      "epoch: 68\n",
      "CHSH max: 1.9406388\n",
      "Estimate: 1.9406388\n",
      "epoch: 69\n",
      "CHSH max: 1.8077937\n",
      "Estimate: 1.8077939\n",
      "epoch: 70\n",
      "CHSH max: 1.8810564\n",
      "Estimate: 1.8810563\n",
      "epoch: 71\n",
      "CHSH max: 2.1856730\n",
      "Estimate: 2.1856730\n",
      "epoch: 72\n",
      "CHSH max: 2.0095845\n",
      "Estimate: 2.0095844\n",
      "epoch: 73\n",
      "CHSH max: 1.9235112\n",
      "Estimate: 1.9235110\n",
      "epoch: 74\n",
      "CHSH max: 1.7572345\n",
      "Estimate: 1.7572343\n",
      "epoch: 75\n",
      "CHSH max: 1.9010082\n",
      "Estimate: 1.9010082\n",
      "epoch: 76\n",
      "CHSH max: 1.9253964\n",
      "Estimate: 1.9253964\n",
      "epoch: 77\n",
      "CHSH max: 2.1326467\n",
      "Estimate: 2.1326466\n",
      "epoch: 78\n",
      "CHSH max: 1.8418137\n",
      "Estimate: 1.8418136\n",
      "epoch: 79\n",
      "CHSH max: 1.8361926\n",
      "Estimate: 1.8361925\n",
      "epoch: 80\n",
      "CHSH max: 1.9236555\n",
      "Estimate: 1.9236555\n",
      "epoch: 81\n",
      "CHSH max: 1.9903034\n",
      "Estimate: 1.9903033\n",
      "epoch: 82\n",
      "CHSH max: 2.1173390\n",
      "Estimate: 2.1173377\n",
      "epoch: 83\n",
      "CHSH max: 1.6981165\n",
      "Estimate: 1.6981165\n",
      "epoch: 84\n",
      "CHSH max: 1.8095613\n",
      "Estimate: 1.8095613\n",
      "epoch: 85\n",
      "CHSH max: 1.7161305\n",
      "Estimate: 1.7161304\n",
      "epoch: 86\n",
      "CHSH max: 2.0113211\n",
      "Estimate: 2.0113211\n",
      "epoch: 87\n",
      "CHSH max: 1.5307460\n",
      "Estimate: 1.5307460\n",
      "epoch: 88\n",
      "CHSH max: 2.1467147\n",
      "Estimate: 2.1467147\n",
      "epoch: 89\n",
      "CHSH max: 1.8338368\n",
      "Estimate: 1.8338368\n",
      "epoch: 90\n",
      "CHSH max: 2.0089236\n",
      "Estimate: 2.0089235\n",
      "epoch: 91\n",
      "CHSH max: 2.0554901\n",
      "Estimate: 2.0554900\n",
      "epoch: 92\n",
      "CHSH max: 2.0920072\n",
      "Estimate: 2.0920057\n",
      "epoch: 93\n",
      "CHSH max: 2.3370982\n",
      "Estimate: 2.3370976\n",
      "epoch: 94\n",
      "CHSH max: 1.9637967\n",
      "Estimate: 1.9637966\n",
      "epoch: 95\n",
      "CHSH max: 1.6956969\n",
      "Estimate: 1.6956968\n",
      "epoch: 96\n",
      "CHSH max: 2.1415841\n",
      "Estimate: 2.1415842\n",
      "epoch: 97\n",
      "CHSH max: 1.8756470\n",
      "Estimate: 1.8756471\n",
      "epoch: 98\n",
      "CHSH max: 2.1006799\n",
      "Estimate: 2.1006796\n",
      "epoch: 99\n",
      "CHSH max: 1.9117860\n",
      "Estimate: 1.9117860\n"
     ]
    }
   ],
   "source": [
    "for epoch in range(100):\n",
    "    print(f\"epoch: {epoch}\")\n",
    "    rho_rand = rand_density_matrix(2, 2)\n",
    "    v_opt = CHSH_max(rho_rand)\n",
    "    v_est = CHSH_qnn(rho_rand)\n",
    "    print(f\"CHSH max: {v_opt:.7f}\")\n",
    "    print(f\"Estimate: {v_est:.7f}\")\n",
    "\n",
    "    if np.abs(v_opt - v_est) > 1e-5:\n",
    "        print(f\"Error!\")\n",
    "        print(rho_rand)\n",
    "        break"
   ]
  },
  {
   "attachments": {},
   "cell_type": "markdown",
   "metadata": {},
   "source": [
    "# Svetlichny\n",
    "\n",
    "$$\n",
    "\\begin{align}\n",
    "& tr(S\\rho) \\leq 4 \\\\\n",
    "S & = (X + X') \\otimes \\left( Y \\otimes Z' + Y' \\otimes Z \\right) \\\\\n",
    "& + (X - X') \\otimes \\left ( Y \\otimes Z - Y' \\otimes Z' \\right )\n",
    "\\end{align}\n",
    "$$"
   ]
  },
  {
   "attachments": {},
   "cell_type": "markdown",
   "metadata": {},
   "source": [
    "$$\n",
    "\\rho = \\frac{1}{8} \\sum_{i,j,k = 0}^3 t_{ij k} \\sigma_i \\otimes \\sigma_j \\otimes \\sigma_k \\quad \\text{where } t_{i j k } = tr(\\rho \\sigma_i \\otimes \\sigma_j \\otimes \\sigma_k) \\in \\Re \n",
    "$$"
   ]
  },
  {
   "attachments": {},
   "cell_type": "markdown",
   "metadata": {},
   "source": [
    "For $X = \\vec{x} \\cdot \\vec{\\sigma}$, $\\vec{x} = (x_1, x_2, x_3) \\in \\Re^3$ and $\\Vert \\vec{x} \\Vert = 1$, \n",
    "\n",
    "$$\n",
    "tr \\left[ \\rho \\left( X \\otimes Y \\otimes Z\\right) \\right]\n",
    " = \\sum_{i, j, k = 1}^3 x_i y_j z_k t_{i j k } = \\left<\\vec{x}, T_z \\vec{y}\\right>\n",
    "$$\n",
    "\n",
    "where $T_k = (t_{i j k }) \\in \\Re^{3 \\times 3}$ and $T_z \\equiv \\sum_{k=1}^3 z_k T_k$ ."
   ]
  }
 ],
 "metadata": {
  "kernelspec": {
   "display_name": "Python 3",
   "language": "python",
   "name": "python3"
  },
  "language_info": {
   "codemirror_mode": {
    "name": "ipython",
    "version": 3
   },
   "file_extension": ".py",
   "mimetype": "text/x-python",
   "name": "python",
   "nbconvert_exporter": "python",
   "pygments_lexer": "ipython3",
   "version": "3.8.0"
  },
  "orig_nbformat": 4
 },
 "nbformat": 4,
 "nbformat_minor": 2
}
